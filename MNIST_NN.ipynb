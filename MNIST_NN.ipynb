{
  "nbformat": 4,
  "nbformat_minor": 0,
  "metadata": {
    "colab": {
      "provenance": []
    },
    "kernelspec": {
      "name": "python3",
      "display_name": "Python 3"
    },
    "language_info": {
      "name": "python"
    }
  },
  "cells": [
    {
      "cell_type": "code",
      "execution_count": null,
      "metadata": {
        "id": "Yemz9aYfsCfc"
      },
      "outputs": [],
      "source": [
        "import tensorflow as tf\n",
        "import numpy as np\n",
        "import pandas as pd\n",
        "import matplotlib.pyplot as plt"
      ]
    },
    {
      "cell_type": "code",
      "source": [
        "tf.__version__"
      ],
      "metadata": {
        "colab": {
          "base_uri": "https://localhost:8080/",
          "height": 36
        },
        "id": "hJHeo4TXsF-Y",
        "outputId": "1793fd0f-43b3-44cc-a699-8817641cd3aa"
      },
      "execution_count": null,
      "outputs": [
        {
          "output_type": "execute_result",
          "data": {
            "text/plain": [
              "'2.12.0'"
            ],
            "application/vnd.google.colaboratory.intrinsic+json": {
              "type": "string"
            }
          },
          "metadata": {},
          "execution_count": 107
        }
      ]
    },
    {
      "cell_type": "code",
      "source": [
        "data = tf.keras.datasets.mnist"
      ],
      "metadata": {
        "id": "6WfIgyULsPGe"
      },
      "execution_count": null,
      "outputs": []
    },
    {
      "cell_type": "code",
      "source": [
        "data"
      ],
      "metadata": {
        "colab": {
          "base_uri": "https://localhost:8080/"
        },
        "id": "PaaJoAqwsTlx",
        "outputId": "fe993ac5-b1de-4424-e353-c8e24a026d84"
      },
      "execution_count": null,
      "outputs": [
        {
          "output_type": "execute_result",
          "data": {
            "text/plain": [
              "<module 'keras.api._v2.keras.datasets.mnist' from '/usr/local/lib/python3.10/dist-packages/keras/api/_v2/keras/datasets/mnist/__init__.py'>"
            ]
          },
          "metadata": {},
          "execution_count": 109
        }
      ]
    },
    {
      "cell_type": "code",
      "source": [
        "(xtrain, ytrain), (xtest, ytest) = data.load_data()"
      ],
      "metadata": {
        "id": "VaSDXpGMsUM8"
      },
      "execution_count": null,
      "outputs": []
    },
    {
      "cell_type": "code",
      "source": [
        "xtrain.shape"
      ],
      "metadata": {
        "colab": {
          "base_uri": "https://localhost:8080/"
        },
        "id": "ehEFSt7vse38",
        "outputId": "c1014bea-b113-4271-b7e3-abfa5c1fe35c"
      },
      "execution_count": null,
      "outputs": [
        {
          "output_type": "execute_result",
          "data": {
            "text/plain": [
              "(60000, 28, 28)"
            ]
          },
          "metadata": {},
          "execution_count": 111
        }
      ]
    },
    {
      "cell_type": "code",
      "source": [
        "ytrain.shape"
      ],
      "metadata": {
        "colab": {
          "base_uri": "https://localhost:8080/"
        },
        "id": "oztBagXusmjq",
        "outputId": "4147e521-6da3-440c-ddff-737d5583908b"
      },
      "execution_count": null,
      "outputs": [
        {
          "output_type": "execute_result",
          "data": {
            "text/plain": [
              "(60000,)"
            ]
          },
          "metadata": {},
          "execution_count": 112
        }
      ]
    },
    {
      "cell_type": "code",
      "source": [
        "plt.imshow(xtrain[0],  cmap='gray')"
      ],
      "metadata": {
        "colab": {
          "base_uri": "https://localhost:8080/",
          "height": 447
        },
        "id": "EB_wKDH4ssan",
        "outputId": "60c89eec-494e-4c89-a2c3-5a32ce8ff569"
      },
      "execution_count": null,
      "outputs": [
        {
          "output_type": "execute_result",
          "data": {
            "text/plain": [
              "<matplotlib.image.AxesImage at 0x7ff03c734310>"
            ]
          },
          "metadata": {},
          "execution_count": 113
        },
        {
          "output_type": "display_data",
          "data": {
            "text/plain": [
              "<Figure size 640x480 with 1 Axes>"
            ],
            "image/png": "[encoded data removed]"
          },
          "metadata": {}
        }
      ]
    },
    {
      "cell_type": "code",
      "source": [
        "from keras.layers.attention.multi_head_attention import activation\n",
        "model = tf.keras.models.Sequential([\n",
        "    tf.keras.layers.Flatten(input_shape=(28,28)),\n",
        "    tf.keras.layers.Dense(512, activation='relu'),\n",
        "    tf.keras.layers.Dropout(0.1),\n",
        "    tf.keras.layers.Dense(512, activation='relu'),\n",
        "    tf.keras.layers.Dropout(0.3),\n",
        "    tf.keras.layers.Dense(512, activation='relu'),\n",
        "    tf.keras.layers.Dropout(0.5),\n",
        "    tf.keras.layers.Dense(256, activation='relu'),\n",
        "    tf.keras.layers.Dropout(0.1),\n",
        "    tf.keras.layers.Dense(256, activation='relu'),\n",
        "    tf.keras.layers.Dropout(0.3),\n",
        "    tf.keras.layers.Dense(256, activation='relu'),\n",
        "    tf.keras.layers.Dropout(0.7),\n",
        "    tf.keras.layers.Dense(128, activation='relu'),\n",
        "    tf.keras.layers.Dense(10)\n",
        "])"
      ],
      "metadata": {
        "id": "8fVXMbXssvsf"
      },
      "execution_count": null,
      "outputs": []
    },
    {
      "cell_type": "code",
      "source": [
        "model.summary()"
      ],
      "metadata": {
        "colab": {
          "base_uri": "https://localhost:8080/"
        },
        "id": "9PHoomhmtrPR",
        "outputId": "1737667f-0902-405e-c270-b40dc9feb811"
      },
      "execution_count": null,
      "outputs": [
        {
          "output_type": "stream",
          "name": "stdout",
          "text": [
            "Model: \"sequential_9\"\n",
            "_________________________________________________________________\n",
            " Layer (type)                Output Shape              Param #   \n",
            "=================================================================\n",
            " flatten_10 (Flatten)        (None, 784)               0         \n",
            "                                                                 \n",
            " dense_17 (Dense)            (None, 512)               401920    \n",
            "                                                                 \n",
            " dropout_8 (Dropout)         (None, 512)               0         \n",
            "                                                                 \n",
            " dense_18 (Dense)            (None, 512)               262656    \n",
            "                                                                 \n",
            " dropout_9 (Dropout)         (None, 512)               0         \n",
            "                                                                 \n",
            " dense_19 (Dense)            (None, 512)               262656    \n",
            "                                                                 \n",
            " dropout_10 (Dropout)        (None, 512)               0         \n",
            "                                                                 \n",
            " dense_20 (Dense)            (None, 256)               131328    \n",
            "                                                                 \n",
            " dropout_11 (Dropout)        (None, 256)               0         \n",
            "                                                                 \n",
            " dense_21 (Dense)            (None, 256)               65792     \n",
            "                                                                 \n",
            " dropout_12 (Dropout)        (None, 256)               0         \n",
            "                                                                 \n",
            " dense_22 (Dense)            (None, 256)               65792     \n",
            "                                                                 \n",
            " dropout_13 (Dropout)        (None, 256)               0         \n",
            "                                                                 \n",
            " dense_23 (Dense)            (None, 128)               32896     \n",
            "                                                                 \n",
            " dense_24 (Dense)            (None, 10)                1290      \n",
            "                                                                 \n",
            "=================================================================\n",
            "Total params: 1,224,330\n",
            "Trainable params: 1,224,330\n",
            "Non-trainable params: 0\n",
            "_________________________________________________________________\n"
          ]
        }
      ]
    },
    {
      "cell_type": "code",
      "source": [
        "loss_fn = tf.keras.losses.SparseCategoricalCrossentropy(from_logits=True)"
      ],
      "metadata": {
        "id": "RL3CjDazu2lh"
      },
      "execution_count": null,
      "outputs": []
    },
    {
      "cell_type": "code",
      "source": [
        "plt.imshow(xtrain[0],  cmap='gray')"
      ],
      "metadata": {
        "colab": {
          "base_uri": "https://localhost:8080/",
          "height": 447
        },
        "id": "_z0P2Qfku8Aj",
        "outputId": "527eada2-9b04-4f17-f12c-07c81c71cec2"
      },
      "execution_count": null,
      "outputs": [
        {
          "output_type": "execute_result",
          "data": {
            "text/plain": [
              "<matplotlib.image.AxesImage at 0x7ff03c837580>"
            ]
          },
          "metadata": {},
          "execution_count": 117
        },
        {
          "output_type": "display_data",
          "data": {
            "text/plain": [
              "<Figure size 640x480 with 1 Axes>"
            ],
            "image/png": "[encoded data removed]"
          },
          "metadata": {}
        }
      ]
    },
    {
      "cell_type": "code",
      "source": [
        "model.compile(optimizer='adam',\n",
        "              loss=loss_fn,\n",
        "              metrics=['accuracy'])"
      ],
      "metadata": {
        "id": "KKAeO6G8vAmk"
      },
      "execution_count": null,
      "outputs": []
    },
    {
      "cell_type": "code",
      "source": [
        "model.fit(xtrain, ytrain, epochs=10)"
      ],
      "metadata": {
        "colab": {
          "base_uri": "https://localhost:8080/"
        },
        "id": "DnvMkHPcvZ8N",
        "outputId": "a4a49164-2e65-4909-da71-8ea2a9eae97f"
      },
      "execution_count": null,
      "outputs": [
        {
          "output_type": "stream",
          "name": "stdout",
          "text": [
            "Epoch 1/10\n",
            "1875/1875 [==============================] - 48s 25ms/step - loss: 1.9331 - accuracy: 0.4929\n",
            "Epoch 2/10\n",
            "1875/1875 [==============================] - 46s 25ms/step - loss: 0.4996 - accuracy: 0.8750\n",
            "Epoch 3/10\n",
            "1875/1875 [==============================] - 46s 24ms/step - loss: 0.3542 - accuracy: 0.9189\n",
            "Epoch 4/10\n",
            "1875/1875 [==============================] - 45s 24ms/step - loss: 0.3113 - accuracy: 0.9311\n",
            "Epoch 5/10\n",
            "1875/1875 [==============================] - 45s 24ms/step - loss: 0.2890 - accuracy: 0.9366\n",
            "Epoch 6/10\n",
            "1875/1875 [==============================] - 46s 25ms/step - loss: 0.2609 - accuracy: 0.9444\n",
            "Epoch 7/10\n",
            "1875/1875 [==============================] - 46s 24ms/step - loss: 0.2497 - accuracy: 0.9463\n",
            "Epoch 8/10\n",
            "1875/1875 [==============================] - 46s 24ms/step - loss: 0.2299 - accuracy: 0.9515\n",
            "Epoch 9/10\n",
            "1875/1875 [==============================] - 45s 24ms/step - loss: 0.2222 - accuracy: 0.9537\n",
            "Epoch 10/10\n",
            "1875/1875 [==============================] - 46s 24ms/step - loss: 0.2180 - accuracy: 0.9541\n"
          ]
        },
        {
          "output_type": "execute_result",
          "data": {
            "text/plain": [
              "<keras.callbacks.History at 0x7ff03c6df010>"
            ]
          },
          "metadata": {},
          "execution_count": 119
        }
      ]
    },
    {
      "cell_type": "code",
      "source": [
        "model.evaluate(xtest,  ytest, verbose=2)"
      ],
      "metadata": {
        "colab": {
          "base_uri": "https://localhost:8080/"
        },
        "id": "cdrY9Dyovfb-",
        "outputId": "1742e5b6-731c-4e39-febf-6d19e51fcb5b"
      },
      "execution_count": null,
      "outputs": [
        {
          "output_type": "stream",
          "name": "stdout",
          "text": [
            "313/313 - 1s - loss: 0.2147 - accuracy: 0.9608 - 1s/epoch - 4ms/step\n"
          ]
        },
        {
          "output_type": "execute_result",
          "data": {
            "text/plain": [
              "[0.21473954617977142, 0.9607999920845032]"
            ]
          },
          "metadata": {},
          "execution_count": 126
        }
      ]
    },
    {
      "cell_type": "code",
      "source": [
        "model.weights"
      ],
      "metadata": {
        "colab": {
          "base_uri": "https://localhost:8080/"
        },
        "id": "KUHSJObV0mRw",
        "outputId": "127c469c-4fe0-4e0b-d845-599051ff2038"
      },
      "execution_count": null,
      "outputs": [
        {
          "output_type": "execute_result",
          "data": {
            "text/plain": [
              "[<tf.Variable 'dense_17/kernel:0' shape=(784, 512) dtype=float32, numpy=\n",
              " array([[-0.02349801,  0.03833924,  0.01940358, ..., -0.03639741,\n",
              "         -0.02589178,  0.01145266],\n",
              "        [ 0.04399866, -0.03163612, -0.04524621, ...,  0.00311571,\n",
              "         -0.00037942, -0.06196395],\n",
              "        [-0.04151411,  0.03760082, -0.0171507 , ...,  0.03676611,\n",
              "         -0.06492564,  0.0505396 ],\n",
              "        ...,\n",
              "        [ 0.02889706,  0.0249205 , -0.06239885, ...,  0.00632528,\n",
              "         -0.04591276, -0.02085097],\n",
              "        [-0.05269397,  0.05088982,  0.05838248, ..., -0.04995746,\n",
              "          0.05598793,  0.05490853],\n",
              "        [-0.00818863,  0.02810014,  0.03722928, ...,  0.0568989 ,\n",
              "          0.06247112, -0.04313013]], dtype=float32)>,\n",
              " <tf.Variable 'dense_17/bias:0' shape=(512,) dtype=float32, numpy=\n",
              " array([ 0.02024203, -0.03686148,  0.04721133, -0.10462981, -0.01720662,\n",
              "         0.0151637 , -0.06900814, -0.01369493,  0.02271182, -0.05195685,\n",
              "        -0.0135717 , -0.05105898, -0.11809127, -0.01945879, -0.08680403,\n",
              "        -0.06429696, -0.08532458, -0.07135808, -0.01959248, -0.03603413,\n",
              "        -0.03549734, -0.03513408, -0.03295473, -0.0383991 , -0.04936461,\n",
              "        -0.05699178, -0.01205399, -0.03521951, -0.03299211, -0.03644702,\n",
              "        -0.14313541, -0.13799044, -0.0409583 , -0.02754344,  0.04794474,\n",
              "        -0.04943566, -0.01561188, -0.09877991, -0.05249783, -0.03113256,\n",
              "        -0.05804243, -0.16281638, -0.12070477, -0.09742849, -0.03079528,\n",
              "        -0.04060469, -0.02784125, -0.07029027, -0.01151722, -0.05724363,\n",
              "        -0.04269735, -0.0839368 , -0.04503491, -0.03424973,  0.02798776,\n",
              "        -0.05054275, -0.0578565 ,  0.00792001, -0.0433219 , -0.04938204,\n",
              "        -0.09489009, -0.037474  ,  0.010631  ,  0.0141267 , -0.05218967,\n",
              "        -0.10226896, -0.05606444, -0.01591345, -0.02190378, -0.02523242,\n",
              "        -0.00267007, -0.04649764, -0.0596921 , -0.11777227, -0.02535219,\n",
              "        -0.06879093, -0.07511203, -0.1113029 , -0.15456656,  0.07768336,\n",
              "        -0.02170837, -0.02101459, -0.0921728 , -0.01281906, -0.07583586,\n",
              "        -0.05894743, -0.06931984, -0.02373507, -0.03229344, -0.03235854,\n",
              "        -0.03932623, -0.02560258, -0.10771675, -0.01333477, -0.04181652,\n",
              "        -0.03206374, -0.00032304, -0.03267225, -0.05126231, -0.02443841,\n",
              "        -0.14173391, -0.04740623,  0.00990581, -0.02224984,  0.10847837,\n",
              "        -0.06390987, -0.07418832, -0.14340526, -0.09748199, -0.07658594,\n",
              "        -0.02564115, -0.00328495, -0.02970511, -0.05784863, -0.01721088,\n",
              "        -0.0285573 ,  0.05750133,  0.06731632, -0.03631772, -0.03702396,\n",
              "        -0.02016888, -0.0256418 , -0.02260724, -0.02431884, -0.05781026,\n",
              "         0.04193757,  0.04954271, -0.02627232, -0.05688222,  0.05289618,\n",
              "         0.03058934, -0.03046913, -0.17793678,  0.00316809, -0.0962234 ,\n",
              "        -0.02875128, -0.16299115, -0.02146103, -0.07779305, -0.22191325,\n",
              "        -0.01349241, -0.04386166, -0.01130004, -0.11738102, -0.09283653,\n",
              "        -0.12710352, -0.12813449,  0.04499455, -0.02182161, -0.04616083,\n",
              "        -0.04483769, -0.03810441, -0.01015096, -0.05942344, -0.03444811,\n",
              "        -0.03834916, -0.01872235, -0.04834954, -0.03768763,  0.02253607,\n",
              "         0.03379368, -0.02297142, -0.00477522, -0.07344073, -0.0319723 ,\n",
              "        -0.03991963, -0.02610484,  0.01978564, -0.04746706, -0.02565684,\n",
              "         0.03231342, -0.02483506, -0.07174738,  0.01493602, -0.01550659,\n",
              "        -0.08308475, -0.02775328,  0.10282788, -0.04260685, -0.03639795,\n",
              "        -0.03943594, -0.04060702, -0.025368  , -0.05776459, -0.01801077,\n",
              "        -0.10308335,  0.05515584, -0.00207766, -0.03600909, -0.0153335 ,\n",
              "        -0.04898268, -0.00567172, -0.12007207, -0.07068807, -0.03462685,\n",
              "        -0.02495576, -0.04733459, -0.06564514, -0.03232276, -0.07378192,\n",
              "        -0.0261149 , -0.00962225, -0.08578929, -0.03238442,  0.05067847,\n",
              "        -0.02744463,  0.02236697, -0.03686417, -0.20148851, -0.04023623,\n",
              "        -0.06314848,  0.02610008, -0.05348837, -0.01458984,  0.0104553 ,\n",
              "        -0.02474313, -0.16316715, -0.04339961, -0.06026117, -0.02522345,\n",
              "        -0.08525412, -0.03767572, -0.01750594,  0.01330012, -0.04244597,\n",
              "        -0.02535268, -0.05608571, -0.02487878, -0.04431277, -0.0741924 ,\n",
              "        -0.02693145, -0.04483023, -0.03526471, -0.04067145, -0.19627729,\n",
              "         0.0236352 , -0.02590272, -0.06155242, -0.04684351, -0.05533851,\n",
              "        -0.04577422, -0.06442697, -0.16285008, -0.07642589, -0.03376507,\n",
              "        -0.13475236, -0.01886669, -0.0009223 ,  0.04051908, -0.01128295,\n",
              "        -0.0234489 , -0.0253212 , -0.05971535, -0.10378472, -0.04919936,\n",
              "        -0.02926549, -0.04609912, -0.0946421 ,  0.02881644, -0.00313288,\n",
              "        -0.1377918 , -0.05629412,  0.0111759 ,  0.01901952, -0.00498211,\n",
              "        -0.06452286, -0.12634988, -0.17432366,  0.04485121, -0.02720253,\n",
              "        -0.06262151, -0.01537556, -0.03386928, -0.08046562, -0.05018252,\n",
              "        -0.00366623, -0.11320201, -0.02041493, -0.03050933, -0.01884743,\n",
              "        -0.02168156,  0.01003891, -0.08097763, -0.07035211, -0.04799546,\n",
              "        -0.03462971, -0.08320273, -0.01813494, -0.03043943, -0.01907472,\n",
              "        -0.03092434, -0.06128531, -0.04349599, -0.01512021, -0.02596656,\n",
              "         0.00800302, -0.0934982 , -0.04358577, -0.00767134, -0.03145529,\n",
              "        -0.09566893, -0.02436297, -0.02974732, -0.12206971, -0.02018257,\n",
              "        -0.0402116 ,  0.00872103, -0.01165524, -0.09837513, -0.03138934,\n",
              "        -0.06766181, -0.07873072, -0.04477862, -0.04022222, -0.05671952,\n",
              "        -0.05080959, -0.0622328 , -0.02104285, -0.08116186, -0.08273747,\n",
              "        -0.11653863, -0.04714772, -0.04282241, -0.08207481, -0.05311662,\n",
              "        -0.05713736, -0.08545487, -0.04326958,  0.05182355, -0.11007386,\n",
              "        -0.07748768,  0.00278096, -0.04380157, -0.03437781, -0.03549012,\n",
              "        -0.07527939, -0.00729242, -0.04119908, -0.05098933, -0.03168208,\n",
              "        -0.04911699,  0.00481108, -0.0254645 , -0.05632148,  0.07951545,\n",
              "        -0.02611692, -0.05428417, -0.04038725, -0.00102825, -0.04346403,\n",
              "        -0.05662649, -0.1792929 ,  0.11098583, -0.03681381, -0.14877492,\n",
              "        -0.02947405, -0.03228221, -0.03340014, -0.02179398, -0.01087293,\n",
              "        -0.02834318, -0.03416493, -0.08041891, -0.07964005, -0.01032818,\n",
              "         0.03318497, -0.06072555, -0.02922793, -0.02463839, -0.02015038,\n",
              "        -0.04779973, -0.04916824, -0.09559051, -0.04518851, -0.02734253,\n",
              "        -0.05555407, -0.08180642, -0.04612777, -0.03349079, -0.02575023,\n",
              "        -0.02745126, -0.09686109, -0.0596688 , -0.08355238, -0.05896729,\n",
              "        -0.04402784, -0.04168764, -0.02154879, -0.1826231 , -0.0220584 ,\n",
              "        -0.07675813, -0.03114119, -0.06052129, -0.15302953, -0.02211809,\n",
              "        -0.02560986, -0.0381253 , -0.07371332,  0.09848613, -0.04443978,\n",
              "        -0.08004883, -0.005699  , -0.10811515, -0.07772648, -0.02487085,\n",
              "        -0.02098076, -0.06671792, -0.01766049, -0.04982191, -0.07521684,\n",
              "         0.00834138, -0.10396837, -0.01021069, -0.04300351,  0.01110067,\n",
              "        -0.04862674, -0.02187035, -0.0271721 , -0.04099847, -0.03393965,\n",
              "        -0.05224359, -0.04728836, -0.07297888, -0.02718098, -0.04733104,\n",
              "         0.01475293, -0.103438  ,  0.00582666, -0.10001154,  0.05488412,\n",
              "        -0.05417461, -0.06601171,  0.00846892, -0.09411325, -0.04712606,\n",
              "        -0.03351915, -0.07278328, -0.05083814, -0.01078991, -0.1342569 ,\n",
              "        -0.06833685, -0.04768178,  0.03213305, -0.08280301, -0.05290464,\n",
              "        -0.11933643, -0.06189988, -0.02316386, -0.08456384,  0.04339944,\n",
              "        -0.02932353, -0.14842896, -0.05972737, -0.03591781, -0.04220354,\n",
              "        -0.03553806, -0.03626461, -0.05883836, -0.13879447, -0.02548688,\n",
              "        -0.00669564, -0.01599114, -0.03392373, -0.02025853, -0.05058878,\n",
              "        -0.06743278, -0.0123387 , -0.12511136, -0.11518661,  0.07220966,\n",
              "        -0.06971204, -0.11202763, -0.05954581, -0.01991376, -0.1581258 ,\n",
              "         0.04319511, -0.10440757, -0.00878472, -0.0038235 , -0.06628167,\n",
              "        -0.01837228, -0.08604646, -0.13090561, -0.03380989, -0.07121206,\n",
              "        -0.07935955, -0.0420461 ,  0.01368081, -0.03663011, -0.0286897 ,\n",
              "        -0.05501615, -0.04677801, -0.05414626, -0.03259327, -0.01572408,\n",
              "         0.01241811, -0.02769694, -0.02343398, -0.0692927 , -0.02107213,\n",
              "        -0.03615843, -0.07251882, -0.01281689, -0.07623941, -0.04277102,\n",
              "        -0.07089494, -0.03264107,  0.0782614 ,  0.09166355, -0.07886336,\n",
              "        -0.09604938,  0.01956966], dtype=float32)>,\n",
              " <tf.Variable 'dense_18/kernel:0' shape=(512, 512) dtype=float32, numpy=\n",
              " array([[-0.06729659,  0.00625543, -0.04303992, ...,  0.02895938,\n",
              "         -0.10178521,  0.10355272],\n",
              "        [-0.00296583,  0.02192423, -0.04557541, ..., -0.07959446,\n",
              "          0.05943978, -0.02955143],\n",
              "        [-0.15100616, -0.13946445, -0.04230315, ..., -0.06175086,\n",
              "          0.02806854, -0.02291833],\n",
              "        ...,\n",
              "        [-0.07377037, -0.07357948,  0.19218664, ..., -0.00379239,\n",
              "         -0.00807565, -0.02290978],\n",
              "        [-0.0747008 , -0.04614554,  0.0228021 , ..., -0.14031477,\n",
              "         -0.08440491, -0.01625402],\n",
              "        [-0.00647331,  0.00121736, -0.22538969, ...,  0.06338698,\n",
              "         -0.23455507, -0.07750846]], dtype=float32)>,\n",
              " <tf.Variable 'dense_18/bias:0' shape=(512,) dtype=float32, numpy=\n",
              " array([-0.22056022, -0.20971105, -0.18191494, -0.23947236, -0.16632292,\n",
              "        -0.18335536, -0.02012979, -0.1700372 , -0.06649686, -0.20615655,\n",
              "        -0.23866102, -0.14756045, -0.14330734, -0.29356882, -0.15585704,\n",
              "        -0.02621641, -0.15915349, -0.13648725, -0.13274713, -0.03803429,\n",
              "        -0.09293823, -0.1918243 , -0.06527751, -0.20144747, -0.07205816,\n",
              "        -0.15402527, -0.15458173, -0.205444  , -0.16312492, -0.09640716,\n",
              "        -0.10689796, -0.11639462, -0.19605203, -0.01161449, -0.21945855,\n",
              "        -0.05905508, -0.21413288, -0.07755768, -0.22779976, -0.21586584,\n",
              "        -0.13542745, -0.25794578, -0.20573258, -0.21087314, -0.06569263,\n",
              "        -0.14933182, -0.12700531, -0.10699109, -0.06252082, -0.2291459 ,\n",
              "        -0.25722408, -0.16863585, -0.20767619, -0.20528086, -0.22377649,\n",
              "        -0.2155016 , -0.22883198, -0.24173291, -0.21172987, -0.02342354,\n",
              "        -0.15714084, -0.16289455, -0.08673167, -0.1461209 , -0.11763969,\n",
              "        -0.05057665, -0.16440861, -0.1549493 , -0.14921765, -0.10291704,\n",
              "        -0.03555426, -0.22421649, -0.16420461, -0.30093688, -0.19585876,\n",
              "        -0.10786913, -0.14897728, -0.11707486, -0.13789432, -0.08994372,\n",
              "        -0.2185893 , -0.18205948, -0.26581657, -0.147185  ,  0.2931226 ,\n",
              "        -0.08722352, -0.04002513, -0.09858377, -0.15528153, -0.2184428 ,\n",
              "        -0.1483907 , -0.09837356, -0.182105  , -0.20261495, -0.1749507 ,\n",
              "        -0.21606317, -0.10344538, -0.12622191, -0.05109822, -0.1815643 ,\n",
              "        -0.11290495, -0.08938596, -0.15018651, -0.11660086,  0.0795321 ,\n",
              "        -0.09629048, -0.09540568, -0.15273099, -0.11714832, -0.19326806,\n",
              "        -0.20485775, -0.2085465 , -0.20028365, -0.03765338, -0.20082915,\n",
              "        -0.03595266, -0.16694136, -0.17839779, -0.17181616, -0.09650765,\n",
              "        -0.10663277, -0.12669589, -0.1712188 , -0.22220883, -0.09706461,\n",
              "        -0.07062078, -0.07561781, -0.15259849, -0.07647832, -0.1832538 ,\n",
              "        -0.14432159, -0.18136096,  0.01187759, -0.20672534, -0.1963075 ,\n",
              "        -0.14853905, -0.01432179, -0.12160934, -0.18274769, -0.10525272,\n",
              "        -0.25071093, -0.2271879 , -0.02647145, -0.09986482, -0.13466896,\n",
              "        -0.04275282, -0.03407668,  0.00101044,  0.24394298, -0.03359994,\n",
              "        -0.2463934 , -0.12857793, -0.0595285 , -0.04655547, -0.19745204,\n",
              "        -0.10259179, -0.10084341,  0.00539963, -0.13716802, -0.1735339 ,\n",
              "        -0.23271455, -0.19181535, -0.14683437, -0.2884309 , -0.19800702,\n",
              "        -0.12040287, -0.14738245, -0.10496397, -0.13645   , -0.02972603,\n",
              "        -0.29169998, -0.23702034, -0.05778665, -0.10538557, -0.11891087,\n",
              "        -0.1963113 , -0.28161854, -0.08337843, -0.1669275 , -0.21670887,\n",
              "        -0.14839691, -0.12150207, -0.12429304, -0.17228308, -0.18163715,\n",
              "        -0.1734281 , -0.05540549, -0.14220804, -0.16974543, -0.26105613,\n",
              "        -0.17786522, -0.17574167, -0.08658084, -0.19972922, -0.11306345,\n",
              "        -0.14610931, -0.01507429,  0.0495641 , -0.22332568, -0.21411939,\n",
              "        -0.14096743, -0.02429152, -0.07187889, -0.18831535,  0.14000091,\n",
              "        -0.21893062, -0.21371248, -0.25391114,  0.43466544, -0.13462685,\n",
              "        -0.14490959, -0.19145031, -0.18837547, -0.09031881, -0.28871012,\n",
              "        -0.04623931, -0.20294042, -0.25092748, -0.08293673, -0.08208592,\n",
              "        -0.1702177 , -0.03184201, -0.18378922, -0.16604033, -0.12268694,\n",
              "        -0.2197926 , -0.14462973, -0.18138163, -0.01405725, -0.16194603,\n",
              "        -0.03768783, -0.04083396, -0.20518851, -0.07982459, -0.21282789,\n",
              "        -0.11639158, -0.16240637, -0.26484996, -0.27634478, -0.06692199,\n",
              "        -0.10656354, -0.02231207, -0.11312943, -0.21546987, -0.19519757,\n",
              "        -0.07282615,  0.09423645, -0.1266073 ,  0.2073642 , -0.23372091,\n",
              "        -0.1581484 , -0.19736055, -0.02967758, -0.08627032, -0.06907474,\n",
              "        -0.17614679, -0.20447274, -0.16561903, -0.23994996, -0.29029474,\n",
              "        -0.22399494, -0.26361665, -0.25184944, -0.16787072, -0.13778459,\n",
              "        -0.02890182, -0.15563135, -0.136216  , -0.21986885, -0.07511213,\n",
              "        -0.00742968, -0.039622  , -0.20757926, -0.18229651, -0.18097085,\n",
              "        -0.17194411, -0.12614556, -0.14277594, -0.11832201, -0.24279816,\n",
              "        -0.0174033 , -0.18550801, -0.19961527, -0.17763573, -0.16108112,\n",
              "        -0.03854566, -0.27276096, -0.17491186, -0.19133224, -0.12406638,\n",
              "        -0.07575835,  0.12946723, -0.11761159, -0.26706076, -0.14445682,\n",
              "        -0.06716853, -0.16742098, -0.21187387, -0.19245899, -0.1749266 ,\n",
              "        -0.12375599, -0.10005049, -0.22027086, -0.1867159 , -0.03803628,\n",
              "        -0.10504144, -0.20851235, -0.09605628, -0.33991954, -0.15792242,\n",
              "        -0.2258237 , -0.11537768, -0.3328421 ,  0.1272002 ,  0.26599705,\n",
              "        -0.1521081 ,  0.02165375, -0.26790887, -0.12220443,  0.10906089,\n",
              "        -0.07631341, -0.21859224,  0.09244899, -0.11620413, -0.17097992,\n",
              "         0.0151337 , -0.0521549 , -0.200963  , -0.08942026, -0.19782484,\n",
              "        -0.00882606, -0.1978541 , -0.13193323, -0.12845181, -0.2275529 ,\n",
              "        -0.24638073, -0.06351418, -0.05267005, -0.18449225, -0.08800057,\n",
              "        -0.02819881, -0.0866171 , -0.20010749, -0.02825806, -0.14696082,\n",
              "        -0.0988767 , -0.18794519,  0.03212509, -0.29966342, -0.14006917,\n",
              "        -0.03549465,  0.03793114, -0.2245238 , -0.17027177, -0.04746   ,\n",
              "        -0.11552539, -0.22089274, -0.14374855, -0.04039964, -0.06392579,\n",
              "        -0.2686403 , -0.11846519, -0.1019622 , -0.14969155, -0.09148345,\n",
              "        -0.2713412 , -0.21501984, -0.12168557, -0.07097291, -0.2326349 ,\n",
              "        -0.09143017,  0.07560499, -0.15587565, -0.14705515, -0.18816318,\n",
              "        -0.03170005, -0.09999163, -0.26458403, -0.18641956, -0.20681825,\n",
              "        -0.12010226, -0.1947067 , -0.08315359, -0.09057253, -0.02676253,\n",
              "        -0.18460098, -0.25431442, -0.20218149, -0.09983588, -0.15905881,\n",
              "        -0.11999236, -0.11954381, -0.08045748, -0.07522972,  0.0347484 ,\n",
              "        -0.20745578, -0.1578943 , -0.21479465, -0.26706895, -0.13263775,\n",
              "        -0.1629721 , -0.28294933, -0.21647665,  0.06043234, -0.01029895,\n",
              "        -0.17520697, -0.1696586 , -0.09827459, -0.24629468, -0.10828891,\n",
              "        -0.27945986, -0.04786566, -0.20377755, -0.16538298, -0.05731077,\n",
              "        -0.24346812,  0.19060881, -0.14802596,  0.25195107, -0.16541034,\n",
              "        -0.17259362, -0.22583894, -0.19336003, -0.03498079, -0.16008087,\n",
              "        -0.3015548 ,  0.13503714, -0.15519835, -0.16072631, -0.0658477 ,\n",
              "        -0.19318764, -0.2482812 , -0.20651373, -0.12537085, -0.16362192,\n",
              "        -0.13373186, -0.23827137, -0.21608919, -0.21877782, -0.0462763 ,\n",
              "        -0.17672506, -0.23455966, -0.13631442, -0.06893719, -0.22387148,\n",
              "        -0.08902351, -0.21275482, -0.15299073, -0.10510753, -0.08438022,\n",
              "        -0.08677939, -0.00152608, -0.1271219 , -0.22306135, -0.12808923,\n",
              "         0.25454357, -0.15046333, -0.0694733 , -0.19444999, -0.10947534,\n",
              "        -0.13058797, -0.18741617, -0.15231028, -0.20120054, -0.18186516,\n",
              "        -0.23247026, -0.2644393 , -0.19052781, -0.15632981, -0.03625016,\n",
              "        -0.01598697, -0.02123505, -0.17687011, -0.15628952, -0.08285173,\n",
              "        -0.15040495, -0.05630706, -0.23630692, -0.13643672,  0.15661295,\n",
              "        -0.21561758, -0.04870246, -0.23326129, -0.20981675, -0.08238284,\n",
              "        -0.14936286, -0.08019671, -0.34648433, -0.18389253, -0.14168952,\n",
              "        -0.20002824, -0.02296466, -0.08295459, -0.03584404, -0.14238536,\n",
              "        -0.11148157, -0.23051338, -0.1508241 , -0.3978416 , -0.20968191,\n",
              "        -0.28559   , -0.20483185,  0.0023386 ,  0.16243026, -0.06803799,\n",
              "        -0.150329  ,  0.23727109, -0.1462702 , -0.00917008, -0.15841031,\n",
              "        -0.18923195, -0.24692741], dtype=float32)>,\n",
              " <tf.Variable 'dense_19/kernel:0' shape=(512, 512) dtype=float32, numpy=\n",
              " array([[ 0.00788753,  0.22225732, -0.02845008, ...,  0.04749912,\n",
              "          0.00189189,  0.14442733],\n",
              "        [-0.24584298, -0.08460322, -0.11068382, ...,  0.07275482,\n",
              "         -0.09341074, -0.02491079],\n",
              "        [-0.08312271, -0.00173265, -0.11674669, ...,  0.00333127,\n",
              "          0.05838493,  0.04659227],\n",
              "        ...,\n",
              "        [ 0.15739225, -0.01392893, -0.09543712, ..., -0.11447676,\n",
              "          0.0317591 , -0.10849801],\n",
              "        [ 0.10192932,  0.06698788, -0.01631916, ..., -0.05249409,\n",
              "          0.08609693, -0.14396062],\n",
              "        [-0.01347847, -0.00978482, -0.01964059, ..., -0.01052536,\n",
              "          0.04548937, -0.10309894]], dtype=float32)>,\n",
              " <tf.Variable 'dense_19/bias:0' shape=(512,) dtype=float32, numpy=\n",
              " array([-0.14763622, -0.21748726, -0.09731472,  0.01280165,  0.05241275,\n",
              "        -0.08095822,  0.10727412, -0.07045393, -0.07063115, -0.09117571,\n",
              "         0.01447656, -0.14386424, -0.2070368 , -0.16114962, -0.24082108,\n",
              "        -0.21158288, -0.34395212, -0.16139787, -0.20364858, -0.12632754,\n",
              "        -0.08379872, -0.07865753, -0.19030204, -0.2392991 , -0.15379578,\n",
              "        -0.1277338 , -0.16330454, -0.09986758, -0.13036436, -0.05889466,\n",
              "         0.3031815 ,  0.07722525,  0.00094315, -0.17903674, -0.19991314,\n",
              "        -0.09053028, -0.15469587, -0.10602712, -0.14484204,  0.04901966,\n",
              "        -0.12426405, -0.22353537, -0.16318674, -0.23060851,  0.20443645,\n",
              "        -0.15278395, -0.2739292 , -0.24199957, -0.22393195, -0.1287582 ,\n",
              "        -0.02196356, -0.22440079, -0.35193747, -0.11103677, -0.0663476 ,\n",
              "        -0.10045595,  0.00749737, -0.10136119, -0.06300894, -0.06284776,\n",
              "        -0.18287712, -0.22687818,  0.05992604, -0.20176043, -0.19887738,\n",
              "        -0.18455645, -0.01049004, -0.07833289, -0.11984651, -0.03779432,\n",
              "        -0.15817663, -0.1312477 , -0.16457252, -0.21275702, -0.18792206,\n",
              "        -0.12784162, -0.15729362, -0.02527866, -0.00561069, -0.01027286,\n",
              "        -0.25935432,  0.00382504, -0.11486015, -0.12931374, -0.21472381,\n",
              "         0.12928292, -0.23676436,  0.09370077, -0.12754862,  0.05638533,\n",
              "        -0.11900426, -0.1554811 , -0.1358633 , -0.12246362, -0.15506777,\n",
              "        -0.1329061 , -0.2315863 , -0.13410427, -0.19344527, -0.19742844,\n",
              "        -0.20415847, -0.21399117, -0.18842775, -0.26783046, -0.14003024,\n",
              "        -0.1010198 , -0.1466874 , -0.19184628, -0.13565858, -0.08310078,\n",
              "        -0.2275796 , -0.26570976, -0.15042049, -0.04235214, -0.2688615 ,\n",
              "        -0.0851564 , -0.32642588, -0.17486504, -0.07463824, -0.09614613,\n",
              "        -0.15957452, -0.12177144,  0.01754039, -0.08315749,  0.07907858,\n",
              "         0.1892943 , -0.2628949 , -0.149239  , -0.19891563, -0.16008231,\n",
              "         0.01238305,  0.23059231,  0.04652213, -0.07536879, -0.13728513,\n",
              "        -0.13306214, -0.14410947, -0.05343543, -0.19479007, -0.19887964,\n",
              "        -0.06350065, -0.18624015, -0.06273466, -0.04472709, -0.24116254,\n",
              "        -0.2275279 , -0.20405006,  0.16719584, -0.18857037, -0.11443052,\n",
              "        -0.07214198,  0.12576675, -0.11839478, -0.25604513, -0.13140237,\n",
              "        -0.14884019, -0.07243518, -0.07198252, -0.03102639, -0.13568479,\n",
              "        -0.12281764, -0.17666069, -0.2273293 , -0.15493917,  0.04782595,\n",
              "        -0.12715873, -0.13373457, -0.06461563, -0.22290647,  0.02421665,\n",
              "        -0.16812886, -0.21680357, -0.14835832, -0.19233589, -0.26554212,\n",
              "        -0.12449014, -0.22652794, -0.21865489, -0.1359753 , -0.1345193 ,\n",
              "        -0.12395068, -0.13799676, -0.10695187, -0.17667845, -0.07120276,\n",
              "        -0.1267079 ,  0.05061967, -0.18093765, -0.1764622 , -0.18549807,\n",
              "        -0.15814796, -0.17805631, -0.17284322, -0.12050898, -0.06465356,\n",
              "        -0.19193389,  0.02479897, -0.10005873, -0.06277905, -0.09356623,\n",
              "         0.0869242 ,  0.25204527, -0.14764196, -0.12995343, -0.13036229,\n",
              "        -0.10341039,  0.12301762, -0.18246277, -0.23711187, -0.26736784,\n",
              "        -0.17048146, -0.19851008, -0.24003449, -0.16398941,  0.11266651,\n",
              "        -0.19229649, -0.15488206, -0.15702797, -0.1444584 , -0.1317172 ,\n",
              "        -0.20541634, -0.03501853, -0.2543565 , -0.15940511,  0.09399345,\n",
              "        -0.03814282, -0.19208321, -0.21739848, -0.25867495, -0.21224649,\n",
              "        -0.3002478 , -0.0408804 , -0.15861876, -0.13890722, -0.2571139 ,\n",
              "        -0.13034219, -0.12784576, -0.07483458, -0.15313073, -0.06317585,\n",
              "        -0.16865605, -0.13747929, -0.14094232, -0.14435966,  0.12934728,\n",
              "        -0.06945749, -0.16946739, -0.1194264 , -0.04967343, -0.18877378,\n",
              "         0.04920971,  0.02959347, -0.1398888 , -0.15564601, -0.15987413,\n",
              "        -0.20301992, -0.26100853, -0.11446144,  0.02641433, -0.06589986,\n",
              "        -0.18312214, -0.12904347, -0.09241058, -0.2058935 , -0.17548583,\n",
              "         0.0297581 , -0.22157218, -0.15124854, -0.16290545, -0.2329302 ,\n",
              "        -0.17824066,  0.03101084, -0.02937219, -0.12842451, -0.19547786,\n",
              "        -0.06523024, -0.0839963 , -0.13219312, -0.08083406, -0.06864628,\n",
              "        -0.24127287, -0.08179871, -0.06645737, -0.00965875, -0.19262733,\n",
              "        -0.08210663, -0.1747364 , -0.10338154, -0.14591846, -0.19500688,\n",
              "        -0.05067123, -0.15934537, -0.05471629,  0.01054051, -0.29469776,\n",
              "        -0.06935433, -0.10736389, -0.12974834, -0.061969  , -0.17647202,\n",
              "        -0.1176914 , -0.13954261, -0.18636347, -0.22365128, -0.13128361,\n",
              "        -0.02642903,  0.18233642, -0.26074585, -0.18787763, -0.03129995,\n",
              "         0.13712658, -0.14680521, -0.119931  , -0.02814271, -0.03677167,\n",
              "        -0.06600729,  0.06232032, -0.15362287, -0.08755309, -0.21614711,\n",
              "        -0.13335092, -0.19997656, -0.01658111, -0.04940274, -0.21641855,\n",
              "        -0.29822493, -0.21219896, -0.01426453, -0.12697448, -0.23131289,\n",
              "        -0.18379866, -0.08138481, -0.03407747, -0.03050736, -0.18272018,\n",
              "        -0.12852934, -0.04625343, -0.29194736, -0.01515792, -0.12704106,\n",
              "        -0.19164829, -0.2853453 , -0.11323344, -0.2902728 , -0.10257827,\n",
              "        -0.11123188, -0.0986485 ,  0.2135027 , -0.05495859,  0.13153943,\n",
              "        -0.15901347, -0.19125628,  0.04371959, -0.06688605, -0.11539783,\n",
              "        -0.2585408 , -0.13429019, -0.20607048, -0.08613287, -0.1577273 ,\n",
              "        -0.1066763 , -0.18539505, -0.10308666, -0.18632051, -0.11304406,\n",
              "        -0.06336298, -0.09467337, -0.01621962, -0.24288303, -0.09686674,\n",
              "        -0.25001654,  0.09982642, -0.13162129, -0.16137533, -0.23649597,\n",
              "         0.00944803, -0.10423541, -0.11907125, -0.25845623, -0.19238606,\n",
              "        -0.09055231, -0.17997769, -0.1874404 , -0.0132257 , -0.1298279 ,\n",
              "        -0.16155185, -0.24287824, -0.06263733,  0.21311668,  0.03561802,\n",
              "        -0.23663309, -0.20927559, -0.22139834, -0.08423796, -0.12374516,\n",
              "        -0.08165833, -0.22401778, -0.06500699, -0.15343554, -0.21894886,\n",
              "         0.23164192, -0.07239503, -0.02586314, -0.28186902, -0.15434945,\n",
              "         0.03469703, -0.08448774, -0.1749966 , -0.14819534, -0.03555591,\n",
              "        -0.18711711, -0.20996268,  0.18101144, -0.16336337, -0.13846356,\n",
              "        -0.08199908, -0.09712961, -0.16266093, -0.11596137, -0.11699777,\n",
              "        -0.08590139, -0.21456276, -0.17077067,  0.00118705, -0.25331256,\n",
              "        -0.24478416, -0.03839009, -0.16557081, -0.09138943, -0.12704512,\n",
              "        -0.08329786, -0.13187851, -0.26744685,  0.16495697, -0.10113446,\n",
              "        -0.22323051, -0.15395682, -0.1813948 , -0.19135325, -0.21393716,\n",
              "        -0.07247062, -0.1984994 , -0.0803278 , -0.15877394, -0.17842266,\n",
              "        -0.23214008, -0.2585607 ,  0.14225264, -0.18698883, -0.3232527 ,\n",
              "        -0.23869824, -0.12566225, -0.11253409, -0.10178738, -0.17625365,\n",
              "         0.04616099, -0.19240591, -0.15144318, -0.28420815, -0.02902042,\n",
              "        -0.14289549, -0.03625244, -0.15835394, -0.2189079 ,  0.10283966,\n",
              "         0.07498615, -0.01068425, -0.09003522, -0.17427531, -0.05302743,\n",
              "         0.02607162, -0.08072713, -0.218613  , -0.14579241, -0.1330348 ,\n",
              "        -0.20432656, -0.17068848, -0.08396184, -0.26727185, -0.14867695,\n",
              "        -0.16607997, -0.11486591, -0.09385806, -0.11442979, -0.13262254,\n",
              "         0.01917027, -0.19107915, -0.11567819, -0.12926616, -0.24975829,\n",
              "        -0.07331137, -0.17800225,  0.03514922, -0.23934819, -0.16974287,\n",
              "        -0.15625656, -0.28972355, -0.14411123, -0.20039147, -0.21688583,\n",
              "        -0.21046023, -0.15134688, -0.12836342, -0.04656693, -0.24427165,\n",
              "        -0.1628769 , -0.21639638, -0.20315018, -0.06924758, -0.12984224,\n",
              "         0.06457887, -0.17771678], dtype=float32)>,\n",
              " <tf.Variable 'dense_20/kernel:0' shape=(512, 256) dtype=float32, numpy=\n",
              " array([[ 0.02975043, -0.01973981,  0.06716873, ...,  0.11339103,\n",
              "         -0.05115566, -0.00238758],\n",
              "        [-0.0779023 , -0.05441752,  0.0063494 , ...,  0.03339428,\n",
              "          0.06175858, -0.10364091],\n",
              "        [-0.11744086, -0.13539554, -0.14053005, ..., -0.06166744,\n",
              "         -0.10336889, -0.02796618],\n",
              "        ...,\n",
              "        [-0.10572419, -0.00942097,  0.15523145, ..., -0.05333804,\n",
              "         -0.06934223,  0.10829038],\n",
              "        [ 0.10099638,  0.20759939,  0.05014365, ...,  0.08010434,\n",
              "         -0.03231587, -0.03314181],\n",
              "        [-0.07296679, -0.03513258,  0.05370099, ..., -0.02887675,\n",
              "         -0.02827339, -0.03295298]], dtype=float32)>,\n",
              " <tf.Variable 'dense_20/bias:0' shape=(256,) dtype=float32, numpy=\n",
              " array([-0.24926315, -0.22057979, -0.12467885, -0.23104845, -0.12301659,\n",
              "        -0.24884836, -0.22115411, -0.14876291, -0.35660413, -0.2290378 ,\n",
              "        -0.13498574, -0.19738199, -0.2074796 , -0.21768668, -0.22853863,\n",
              "        -0.12009761, -0.0037596 , -0.29209444, -0.02897285, -0.05494647,\n",
              "        -0.12320699, -0.19140288, -0.24889514, -0.02753383, -0.01193126,\n",
              "        -0.18862016, -0.24310842, -0.20335324, -0.20046753, -0.24028166,\n",
              "        -0.24980661, -0.25564772, -0.19528979, -0.13264534, -0.09748255,\n",
              "        -0.03297381, -0.21444514, -0.14670987, -0.2199179 , -0.03376817,\n",
              "        -0.25342542, -0.16314691, -0.14429423, -0.1269124 , -0.2264591 ,\n",
              "        -0.21507479, -0.09619536, -0.16813578, -0.19170752, -0.12360749,\n",
              "        -0.16265438, -0.20357388, -0.19205604, -0.06034454, -0.18859878,\n",
              "        -0.16787991, -0.24152838, -0.15177287, -0.2292813 , -0.1170066 ,\n",
              "        -0.19896996, -0.15655641, -0.22655374, -0.16877086, -0.1713029 ,\n",
              "         0.05294406, -0.18662085, -0.19022994, -0.19820005, -0.04810906,\n",
              "        -0.20923555, -0.18151075, -0.11122254, -0.11983731, -0.02732894,\n",
              "        -0.09923531, -0.24704535, -0.05159341, -0.0457695 , -0.11081182,\n",
              "        -0.23758814, -0.1728608 , -0.19714172, -0.24241571, -0.1296222 ,\n",
              "        -0.33795822, -0.23719598,  0.06149337, -0.22601593, -0.17523636,\n",
              "         0.34520718,  0.06734239, -0.15046415, -0.1345811 , -0.21775256,\n",
              "        -0.11783396, -0.21994399, -0.09512346, -0.19405732, -0.24246968,\n",
              "        -0.14694127, -0.07040684, -0.19566472, -0.17952383, -0.1760045 ,\n",
              "        -0.17449571, -0.32022786, -0.11622007, -0.21902573, -0.2553861 ,\n",
              "        -0.20526703,  0.03232653, -0.32114944, -0.08098626, -0.17269503,\n",
              "        -0.09811442, -0.34459195, -0.09228985, -0.18974587, -0.09436462,\n",
              "        -0.271178  , -0.23952992, -0.18921384, -0.01261891, -0.2481379 ,\n",
              "        -0.14854029, -0.22133149, -0.25274056, -0.23529759, -0.25349602,\n",
              "        -0.26466236, -0.12828752, -0.1149183 , -0.12605244, -0.22553009,\n",
              "        -0.07060447, -0.1179125 ,  0.05541182, -0.0588997 , -0.08902796,\n",
              "        -0.18960844, -0.02591584, -0.2457787 , -0.23100671, -0.2100019 ,\n",
              "        -0.12825114, -0.19182108, -0.23405485, -0.2133633 , -0.23587419,\n",
              "        -0.14220308, -0.1471771 , -0.09037621, -0.02204075,  0.03584383,\n",
              "        -0.17545708, -0.11130384, -0.25888476, -0.20035756, -0.12200414,\n",
              "        -0.1502321 , -0.16374564, -0.16246675, -0.14990035, -0.14830422,\n",
              "        -0.1858127 , -0.28069925, -0.16946085, -0.16974296, -0.26637036,\n",
              "        -0.2626846 , -0.18736927, -0.09652942, -0.03949062, -0.11918508,\n",
              "        -0.15152624, -0.18923579, -0.04961911, -0.1466538 , -0.11920642,\n",
              "        -0.09173319, -0.27271742, -0.27157292, -0.2138653 , -0.21437599,\n",
              "        -0.19598976, -0.23781738, -0.16391774, -0.23530632, -0.2221392 ,\n",
              "        -0.17632312, -0.23908909, -0.2105569 , -0.20572236, -0.24872091,\n",
              "        -0.08949669, -0.05251011, -0.08773022, -0.13165791,  0.5096066 ,\n",
              "        -0.13485062, -0.25443953, -0.15381129, -0.16024135, -0.24862888,\n",
              "        -0.10748605, -0.11571246, -0.22560994, -0.21999837, -0.14958276,\n",
              "        -0.21738766, -0.24492507, -0.00416287, -0.19856922, -0.11509502,\n",
              "        -0.23177812, -0.22658966, -0.2704722 , -0.28060076, -0.20076431,\n",
              "        -0.15429382, -0.16447268, -0.1698389 , -0.18599673, -0.09781504,\n",
              "        -0.15619107, -0.1251852 , -0.21641253, -0.1609505 ,  0.27757055,\n",
              "        -0.28655174, -0.25742528,  0.250542  , -0.20842339,  0.27079818,\n",
              "        -0.18569621, -0.22959653, -0.24837501, -0.30557653, -0.1804952 ,\n",
              "        -0.1313875 , -0.25095105, -0.24251743, -0.10616792, -0.27000928,\n",
              "         0.37768927, -0.14174606,  0.10896325, -0.2987663 , -0.21563578,\n",
              "        -0.1308915 , -0.1803263 , -0.26259476, -0.1468329 , -0.12085969,\n",
              "        -0.20306642], dtype=float32)>,\n",
              " <tf.Variable 'dense_21/kernel:0' shape=(256, 256) dtype=float32, numpy=\n",
              " array([[ 0.04241583,  0.03488621,  0.01745039, ...,  0.11254439,\n",
              "          0.16291645, -0.09378688],\n",
              "        [ 0.03080116, -0.02845413, -0.05218462, ..., -0.12194466,\n",
              "          0.02649361, -0.05999616],\n",
              "        [-0.13812545, -0.20522526,  0.04704693, ..., -0.12496965,\n",
              "         -0.10912017,  0.22974002],\n",
              "        ...,\n",
              "        [-0.04901465,  0.11616103,  0.10177493, ..., -0.08799037,\n",
              "          0.02630339, -0.02538827],\n",
              "        [-0.10940466, -0.0616697 , -0.08454884, ..., -0.017732  ,\n",
              "         -0.14811468,  0.09330387],\n",
              "        [ 0.05172316, -0.11933294, -0.08369209, ..., -0.0314479 ,\n",
              "          0.04115195,  0.09005232]], dtype=float32)>,\n",
              " <tf.Variable 'dense_21/bias:0' shape=(256,) dtype=float32, numpy=\n",
              " array([-0.09221411, -0.22935475,  0.01806444, -0.14632197, -0.05732771,\n",
              "        -0.01554264, -0.1368386 , -0.23082054, -0.20312455, -0.2864792 ,\n",
              "         0.04395987, -0.07639703, -0.17699254,  0.20656848, -0.20878783,\n",
              "        -0.06800967, -0.04747466,  0.15084201,  0.01210805, -0.22599024,\n",
              "         0.5231693 , -0.09924074, -0.1654855 , -0.02640891, -0.25689262,\n",
              "        -0.16722384, -0.16567177,  0.1767183 , -0.29629487,  0.24764903,\n",
              "        -0.04189093, -0.05939277, -0.31385934,  0.30198818, -0.23038772,\n",
              "        -0.13320605, -0.16706406,  0.44188148, -0.06279143,  0.07912497,\n",
              "        -0.19774114,  0.23957622, -0.15995578, -0.00998911, -0.07363201,\n",
              "        -0.2827454 ,  0.16981421, -0.05302021,  0.08255175, -0.25454414,\n",
              "        -0.18911031, -0.08524589,  0.538512  , -0.11101973, -0.26379117,\n",
              "        -0.21166435, -0.10566318, -0.21596347, -0.02285724, -0.39392266,\n",
              "        -0.23851834, -0.21213788, -0.17379999, -0.20166625, -0.06666629,\n",
              "        -0.22345886, -0.11726498, -0.23366651, -0.03722341, -0.05958771,\n",
              "        -0.06912422, -0.10633556, -0.21531327, -0.2470115 ,  0.2829405 ,\n",
              "        -0.04284438, -0.21698424, -0.1267257 , -0.14710234, -0.25286326,\n",
              "        -0.11220198, -0.25733706, -0.2065271 , -0.14799835, -0.17610994,\n",
              "        -0.09903932, -0.19469157, -0.08553941, -0.12433928, -0.3043999 ,\n",
              "        -0.16432995, -0.10177629,  0.58821446, -0.09412633, -0.31249702,\n",
              "        -0.21873194, -0.16032705, -0.24130885, -0.19223514, -0.05339242,\n",
              "        -0.15518928, -0.19710578, -0.11949789,  0.11326841, -0.16406628,\n",
              "        -0.22827007, -0.19385397, -0.24141987, -0.19534644, -0.21231225,\n",
              "        -0.03434731,  0.04075929, -0.06356134, -0.28821114, -0.06760467,\n",
              "        -0.15836039, -0.2552784 , -0.1834431 , -0.14662968, -0.17127214,\n",
              "        -0.1223667 ,  0.07955983, -0.39051372, -0.12094526,  0.02493629,\n",
              "        -0.07924875, -0.28251263, -0.06580181,  0.00262322, -0.08802915,\n",
              "        -0.15768163, -0.08172645,  0.17570856, -0.20573932, -0.09241573,\n",
              "        -0.13475496, -0.18612532, -0.2404023 , -0.10495304,  0.11932451,\n",
              "        -0.18686895, -0.23729938, -0.0716536 , -0.23036319, -0.2293012 ,\n",
              "        -0.15931962,  0.01703765, -0.16540353, -0.00808727,  0.09311727,\n",
              "         0.19877473, -0.01995745, -0.14945199, -0.0471852 ,  0.46436843,\n",
              "        -0.16308147,  0.16276182, -0.20369726, -0.06614632, -0.14150116,\n",
              "        -0.25822812, -0.07536635, -0.1357591 , -0.15205234, -0.0951817 ,\n",
              "        -0.23645812, -0.17642763, -0.16339393,  0.16468635, -0.19752088,\n",
              "        -0.2611111 , -0.04041246, -0.27390024, -0.0261109 , -0.13892466,\n",
              "        -0.20817037, -0.07895198, -0.117774  ,  0.04837283, -0.16408335,\n",
              "        -0.24632856,  0.02493735, -0.15669592,  0.07612433,  0.01248033,\n",
              "        -0.22484992, -0.10547127, -0.20986816, -0.2708168 ,  0.0852414 ,\n",
              "        -0.09363867, -0.1341965 , -0.05293268, -0.15910685, -0.05230704,\n",
              "        -0.24140647, -0.12754817, -0.07681032, -0.19952412,  0.47550666,\n",
              "        -0.21758564, -0.04158692, -0.12039792, -0.2164119 , -0.2036374 ,\n",
              "         0.104941  , -0.36480474, -0.12195357, -0.05895362,  0.12415227,\n",
              "        -0.13852714, -0.13275449, -0.22833541, -0.19676736, -0.09773131,\n",
              "        -0.10308045, -0.22639492, -0.09736268, -0.27552778, -0.17880322,\n",
              "        -0.2698211 , -0.21246427,  0.01088588, -0.3155185 , -0.1593592 ,\n",
              "        -0.18039837, -0.00644566, -0.16443269, -0.23470639,  0.31897825,\n",
              "        -0.06554642, -0.14979044, -0.24547152, -0.04682216, -0.201819  ,\n",
              "        -0.12833191, -0.00271553, -0.10177415, -0.13245499,  0.16608144,\n",
              "        -0.28243476, -0.24545719, -0.08062721, -0.24681178, -0.22348751,\n",
              "        -0.10383269, -0.06057237, -0.2665258 ,  0.51985687, -0.05934229,\n",
              "         0.13513412, -0.29455867, -0.3191603 , -0.25446212, -0.05966857,\n",
              "        -0.05844841], dtype=float32)>,\n",
              " <tf.Variable 'dense_22/kernel:0' shape=(256, 256) dtype=float32, numpy=\n",
              " array([[-0.00713635,  0.02084428, -0.07997896, ..., -0.00496397,\n",
              "         -0.0425015 ,  0.03361215],\n",
              "        [-0.04414687, -0.11488359,  0.02742921, ...,  0.04493671,\n",
              "         -0.07010288,  0.00887514],\n",
              "        [-0.0918875 ,  0.01267219, -0.00569691, ..., -0.09777206,\n",
              "         -0.01667487, -0.04090741],\n",
              "        ...,\n",
              "        [-0.11684585, -0.06005521,  0.06523414, ..., -0.05725741,\n",
              "         -0.06070019,  0.00089601],\n",
              "        [-0.12541616, -0.01323125,  0.09054683, ..., -0.18726274,\n",
              "         -0.08333648,  0.0102686 ],\n",
              "        [ 0.13523823, -0.01654796,  0.00415816, ..., -0.03248916,\n",
              "         -0.03446651,  0.05457874]], dtype=float32)>,\n",
              " <tf.Variable 'dense_22/bias:0' shape=(256,) dtype=float32, numpy=\n",
              " array([-0.04970378,  0.02077934, -0.0947145 ,  0.27503258, -0.21645848,\n",
              "         0.13570343, -0.3112358 ,  0.31616345, -0.21255271, -0.06178723,\n",
              "        -0.14901112,  0.26905537, -0.05381321, -0.05202466,  0.49060172,\n",
              "         0.15182993, -0.05798535,  0.03377742,  0.30549324, -0.04755251,\n",
              "        -0.06317542, -0.15537915, -0.16421469,  0.1854242 ,  0.07477752,\n",
              "        -0.16356294,  0.31901592,  0.04996148,  0.11181558,  0.46091175,\n",
              "        -0.20448302,  0.14964347,  0.12482223, -0.18126482,  0.0682459 ,\n",
              "         0.38287118,  0.0941046 , -0.02849386, -0.26316062, -0.15152334,\n",
              "        -0.19746807,  0.34075403, -0.04022786, -0.01308794, -0.33886877,\n",
              "         0.02751506,  0.22433521, -0.07154366,  0.00558963,  0.09581267,\n",
              "         0.2926673 , -0.1144253 , -0.25778353, -0.0129922 , -0.18439905,\n",
              "         0.36381963,  0.46999627, -0.10677109, -0.19015166, -0.10207783,\n",
              "        -0.15587984,  0.22541946,  0.3727594 ,  0.09879719,  0.32938904,\n",
              "        -0.11531597, -0.06889649, -0.0296712 , -0.02527646, -0.2519231 ,\n",
              "        -0.20052546, -0.28861657, -0.19949417, -0.1572358 ,  0.31622082,\n",
              "        -0.16667649,  0.19907565,  0.11359183, -0.1332327 , -0.29189613,\n",
              "        -0.23054352, -0.30322883, -0.1929975 ,  0.2865614 , -0.10505009,\n",
              "         0.18596548, -0.30322948, -0.09720603,  0.50884145, -0.01040083,\n",
              "        -0.20839785,  0.20781858,  0.33762693, -0.13331681,  0.11758304,\n",
              "        -0.00944973, -0.08379193,  0.3662401 ,  0.00880565, -0.13874511,\n",
              "        -0.2467459 , -0.08414821,  0.05095235,  0.49447635,  0.22449577,\n",
              "        -0.15343061,  0.19336903,  0.10369533,  0.03297278,  0.00511117,\n",
              "        -0.13054891,  0.23062469, -0.1492355 ,  0.2715524 ,  0.12182224,\n",
              "        -0.13508737, -0.3360886 ,  0.16057755, -0.2635381 , -0.03475066,\n",
              "         0.12606291, -0.19425812,  0.4193744 ,  0.28408203,  0.37403628,\n",
              "         0.02071695, -0.19602194, -0.03791176,  0.35152024,  0.37179968,\n",
              "         0.04022241, -0.18585251, -0.04214419, -0.19742884,  0.1121107 ,\n",
              "         0.09970096, -0.06030525,  0.0259384 , -0.10690241,  0.00126978,\n",
              "         0.08389868,  0.10789766, -0.09918664, -0.03527933,  0.20297942,\n",
              "        -0.02965851,  0.06929372, -0.11851658, -0.07907877,  0.23313053,\n",
              "        -0.2794213 , -0.17943953,  0.24846789,  0.07779305, -0.05316197,\n",
              "         0.47853154, -0.07806829,  0.10175183,  0.17035422,  0.14021432,\n",
              "        -0.20984402,  0.06059076, -0.17585714, -0.1529327 , -0.04942668,\n",
              "        -0.12387054, -0.07602541, -0.16897944, -0.19319704,  0.10034496,\n",
              "        -0.09144305, -0.29611441,  0.13842432, -0.1035497 ,  0.08497993,\n",
              "         0.1736385 ,  0.17851084, -0.18798631, -0.12593067, -0.19236484,\n",
              "         0.21005422, -0.25517008, -0.1957989 ,  0.4530575 , -0.16370891,\n",
              "        -0.2427478 , -0.22306336, -0.18219025,  0.01652719, -0.25531435,\n",
              "         0.2531047 ,  0.2880484 ,  0.03465552, -0.11496785, -0.100439  ,\n",
              "        -0.1435701 , -0.15880898, -0.2016377 ,  0.04420783,  0.12786728,\n",
              "        -0.01487572,  0.44142926,  0.20164952,  0.22106044, -0.08999027,\n",
              "         0.0455433 , -0.22553389, -0.3364738 ,  0.03924885,  0.40085095,\n",
              "         0.00729058, -0.03775205,  0.33844787, -0.11327326, -0.03629448,\n",
              "        -0.25899142, -0.09484771, -0.11050301, -0.20240861,  0.01731288,\n",
              "        -0.08600345,  0.06757589, -0.1626109 , -0.24506085,  0.419317  ,\n",
              "        -0.10025366, -0.11645646,  0.22621515, -0.02766423, -0.02237137,\n",
              "         0.00715871,  0.15131111, -0.22319284, -0.15848413,  0.3370611 ,\n",
              "        -0.10760111, -0.30907166,  0.17696539, -0.1687433 , -0.14555371,\n",
              "         0.00497831, -0.11455087, -0.10756326,  0.17721468, -0.35348272,\n",
              "         0.35165462,  0.19610998, -0.00328362,  0.06235942, -0.1365489 ,\n",
              "        -0.20527284, -0.03884744, -0.13017114,  0.24018572,  0.11535516,\n",
              "        -0.12954094], dtype=float32)>,\n",
              " <tf.Variable 'dense_23/kernel:0' shape=(256, 128) dtype=float32, numpy=\n",
              " array([[-0.2160758 , -0.01718109,  0.05562823, ...,  0.11833964,\n",
              "         -0.13693735,  0.08988596],\n",
              "        [-0.05903857,  0.09470715,  0.08411901, ...,  0.09761465,\n",
              "         -0.10216077, -0.08370556],\n",
              "        [-0.02798429, -0.02648349,  0.01888962, ..., -0.05867191,\n",
              "          0.00724416,  0.00542369],\n",
              "        ...,\n",
              "        [-0.05532783, -0.06653547, -0.03913179, ..., -0.04083344,\n",
              "         -0.01960341,  0.1145545 ],\n",
              "        [-0.17814721, -0.18365523,  0.0566319 , ..., -0.02528784,\n",
              "         -0.04027263,  0.01510939],\n",
              "        [ 0.06120554, -0.08236238,  0.03803079, ..., -0.00900203,\n",
              "         -0.04167911, -0.08347968]], dtype=float32)>,\n",
              " <tf.Variable 'dense_23/bias:0' shape=(128,) dtype=float32, numpy=\n",
              " array([-0.30725306, -0.43816236,  1.9262817 , -0.37755165,  0.01555352,\n",
              "         1.0796037 ,  0.527811  , -0.3607378 , -0.53711104,  1.8182673 ,\n",
              "        -0.01049402,  0.18879457,  0.19361033,  0.00266163,  0.9719577 ,\n",
              "        -0.22914664,  1.8823968 ,  1.0493314 ,  0.76548016,  0.35775727,\n",
              "        -0.199959  , -0.11248691, -0.10811188, -0.15013401,  0.12453815,\n",
              "         0.29872102,  0.06089224, -0.22968243,  0.33551535, -0.05902815,\n",
              "        -0.14658093,  0.375995  ,  1.770266  ,  0.24217692, -0.40054834,\n",
              "        -0.34438157,  0.02117957, -0.20972763,  1.5112436 ,  0.58041114,\n",
              "         1.9086629 ,  1.0988109 ,  0.56651175,  0.82441056, -0.45859554,\n",
              "        -0.16211063, -0.25363097, -0.069787  ,  0.07094266,  0.12147237,\n",
              "         1.6207057 , -0.20049931,  0.08900938,  2.1880238 ,  0.28084093,\n",
              "         0.15408917,  0.2770022 , -0.18279274,  0.5786126 , -0.02609131,\n",
              "         0.43643373, -0.23501557,  0.10723428, -0.15923215, -0.09630904,\n",
              "         0.97468764,  0.05581951, -0.36884812,  0.14810719,  0.7154201 ,\n",
              "         1.0441386 , -0.08526722,  0.4348631 , -0.15720034, -0.1656038 ,\n",
              "         0.33836824, -0.17696074,  1.3732617 ,  0.17321523, -0.21662112,\n",
              "         1.4755383 ,  0.4201639 ,  0.20963575,  0.17325145,  1.1340553 ,\n",
              "         0.9971323 ,  0.8300859 , -0.2665904 , -0.38261357,  1.3249077 ,\n",
              "         0.76365215,  0.35651553, -0.1112342 ,  0.4878672 ,  0.02330587,\n",
              "        -0.36048612,  1.5195574 , -0.24859715,  0.5517375 , -0.34920025,\n",
              "        -0.14981177, -0.06072293, -0.15454422,  0.18310237,  0.1497924 ,\n",
              "         1.3174646 ,  0.15484175, -0.18043405,  0.29154047,  0.488409  ,\n",
              "         0.03644264, -0.12430827, -0.11562421, -0.6089767 ,  0.06011742,\n",
              "         0.04823123, -0.32053554,  0.17517066,  1.988921  ,  0.15833974,\n",
              "        -0.16492732,  0.38841254,  0.37138104,  0.461634  , -0.04968457,\n",
              "         1.9403306 ,  0.02434667, -0.27733195], dtype=float32)>,\n",
              " <tf.Variable 'dense_24/kernel:0' shape=(128, 10) dtype=float32, numpy=\n",
              " array([[-0.0283135 ,  0.02597669,  0.05219041, ...,  0.06246557,\n",
              "         -0.09315459,  0.03115237],\n",
              "        [ 0.0473763 , -0.04664038,  0.02629185, ..., -0.00628898,\n",
              "         -0.03821377,  0.0126481 ],\n",
              "        [-0.01544599,  0.04357316,  0.00712432, ...,  0.00789488,\n",
              "          0.07590653,  0.02811084],\n",
              "        ...,\n",
              "        [ 0.00537811, -0.0238924 , -0.00539134, ..., -0.06494822,\n",
              "          0.02646198,  0.00393382],\n",
              "        [ 0.04320562,  0.07125607,  0.01693323, ...,  0.0497044 ,\n",
              "          0.02643535,  0.05021036],\n",
              "        [ 0.01019838,  0.0329705 ,  0.04087072, ...,  0.03202486,\n",
              "          0.02811799,  0.02382989]], dtype=float32)>,\n",
              " <tf.Variable 'dense_24/bias:0' shape=(10,) dtype=float32, numpy=\n",
              " array([-0.17037971, -0.3364648 , -0.10764559, -0.0859676 , -0.3169924 ,\n",
              "        -0.09207627, -0.08483656, -0.23018827,  0.7559434 ,  0.3288956 ],\n",
              "       dtype=float32)>]"
            ]
          },
          "metadata": {},
          "execution_count": 129
        }
      ]
    },
    {
      "cell_type": "code",
      "source": [
        "proba_model = tf.keras.Sequential([\n",
        "    model,\n",
        "    tf.keras.layers.Softmax()\n",
        "])"
      ],
      "metadata": {
        "id": "5LJmVBQfwFlz"
      },
      "execution_count": null,
      "outputs": []
    },
    {
      "cell_type": "code",
      "source": [
        "pred = proba_model(xtest[5:6])"
      ],
      "metadata": {
        "id": "XJhHWt7PwWZa"
      },
      "execution_count": null,
      "outputs": []
    },
    {
      "cell_type": "code",
      "source": [
        "plt.plot(pred[0], marker='o')"
      ],
      "metadata": {
        "colab": {
          "base_uri": "https://localhost:8080/",
          "height": 447
        },
        "id": "XfYPs_9z1J5N",
        "outputId": "bc91df89-50ad-4b68-e659-a6e263ff1b9e"
      },
      "execution_count": null,
      "outputs": [
        {
          "output_type": "execute_result",
          "data": {
            "text/plain": [
              "[<matplotlib.lines.Line2D at 0x7ff03a46a1a0>]"
            ]
          },
          "metadata": {},
          "execution_count": 142
        },
        {
          "output_type": "display_data",
          "data": {
            "text/plain": [
              "<Figure size 640x480 with 1 Axes>"
            ],
            "image/png": "[encoded data removed]"
          },
          "metadata": {}
        }
      ]
    },
    {
      "cell_type": "code",
      "source": [
        "np.argmax(pred)"
      ],
      "metadata": {
        "colab": {
          "base_uri": "https://localhost:8080/"
        },
        "id": "gm5MRksmwflZ",
        "outputId": "b6a4202b-777b-43b9-a9ad-3d5259f61391"
      },
      "execution_count": null,
      "outputs": [
        {
          "output_type": "execute_result",
          "data": {
            "text/plain": [
              "1"
            ]
          },
          "metadata": {},
          "execution_count": 143
        }
      ]
    },
    {
      "cell_type": "code",
      "source": [
        "plt.imshow(xtest[5],cmap='gray')"
      ],
      "metadata": {
        "colab": {
          "base_uri": "https://localhost:8080/",
          "height": 447
        },
        "id": "6yNqTrvAwhRw",
        "outputId": "5bc6e172-295b-4c83-f85b-8ddc3a09e487"
      },
      "execution_count": null,
      "outputs": [
        {
          "output_type": "execute_result",
          "data": {
            "text/plain": [
              "<matplotlib.image.AxesImage at 0x7ff03a1661a0>"
            ]
          },
          "metadata": {},
          "execution_count": 144
        },
        {
          "output_type": "display_data",
          "data": {
            "text/plain": [
              "<Figure size 640x480 with 1 Axes>"
            ],
            "image/png": "[encoded data removed]"
          },
          "metadata": {}
        }
      ]
    },
    {
      "cell_type": "code",
      "source": [],
      "metadata": {
        "id": "7zY7PJNtwpoH"
      },
      "execution_count": null,
      "outputs": []
    }
  ]
}