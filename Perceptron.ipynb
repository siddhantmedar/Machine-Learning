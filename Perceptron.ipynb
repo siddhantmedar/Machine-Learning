{
  "nbformat": 4,
  "nbformat_minor": 0,
  "metadata": {
    "colab": {
      "provenance": []
    },
    "kernelspec": {
      "name": "python3",
      "display_name": "Python 3"
    },
    "language_info": {
      "name": "python"
    }
  },
  "cells": [
    {
      "cell_type": "markdown",
      "source": [
        "# Perceptron Network"
      ],
      "metadata": {
        "id": "A82h3ZYDTfO2"
      }
    },
    {
      "cell_type": "code",
      "execution_count": 1,
      "metadata": {
        "id": "qPN21LBRSLQ0"
      },
      "outputs": [],
      "source": [
        "import torch\n",
        "import torch.nn as nn"
      ]
    },
    {
      "cell_type": "code",
      "source": [
        "model = nn.Linear(3,1)"
      ],
      "metadata": {
        "id": "f5BqaRtJSW5U"
      },
      "execution_count": 2,
      "outputs": []
    },
    {
      "cell_type": "code",
      "source": [
        "model.weight, model.bias"
      ],
      "metadata": {
        "colab": {
          "base_uri": "https://localhost:8080/"
        },
        "id": "xG4KbJzPSknP",
        "outputId": "d4bfca96-1018-473f-ecfe-79d2d61945d2"
      },
      "execution_count": 4,
      "outputs": [
        {
          "output_type": "execute_result",
          "data": {
            "text/plain": [
              "(Parameter containing:\n",
              " tensor([[ 0.1504,  0.1366, -0.5232]], requires_grad=True),\n",
              " Parameter containing:\n",
              " tensor([-0.5768], requires_grad=True))"
            ]
          },
          "metadata": {},
          "execution_count": 4
        }
      ]
    },
    {
      "cell_type": "code",
      "source": [
        "input = torch.tensor([1,2,3],dtype = torch.float32)"
      ],
      "metadata": {
        "id": "xX6y3R73SnEV"
      },
      "execution_count": 6,
      "outputs": []
    },
    {
      "cell_type": "code",
      "source": [
        "output = model(input)\n",
        "output"
      ],
      "metadata": {
        "colab": {
          "base_uri": "https://localhost:8080/"
        },
        "id": "YGCdC-sfSyZR",
        "outputId": "75e17903-91f9-429e-ab63-f76511cd3e1b"
      },
      "execution_count": 8,
      "outputs": [
        {
          "output_type": "execute_result",
          "data": {
            "text/plain": [
              "tensor([-1.7227], grad_fn=<AddBackward0>)"
            ]
          },
          "metadata": {},
          "execution_count": 8
        }
      ]
    },
    {
      "cell_type": "code",
      "source": [
        "# wX + b =>verify\n",
        "print((input.numpy()*model.weight.detach().numpy()).sum() + model.bias)"
      ],
      "metadata": {
        "colab": {
          "base_uri": "https://localhost:8080/"
        },
        "id": "9SdWAqMSS2Q2",
        "outputId": "4a9f6422-d73b-4405-ce99-b5a088603d36"
      },
      "execution_count": 15,
      "outputs": [
        {
          "output_type": "stream",
          "name": "stdout",
          "text": [
            "tensor([-1.7227], grad_fn=<AddBackward0>)\n"
          ]
        }
      ]
    }
  ]
}