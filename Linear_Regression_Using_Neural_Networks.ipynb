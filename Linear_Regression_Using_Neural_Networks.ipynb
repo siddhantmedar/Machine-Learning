{
  "nbformat": 4,
  "nbformat_minor": 0,
  "metadata": {
    "colab": {
      "provenance": [],
      "gpuType": "T4"
    },
    "kernelspec": {
      "name": "python3",
      "display_name": "Python 3"
    },
    "language_info": {
      "name": "python"
    },
    "accelerator": "GPU"
  },
  "cells": [
    {
      "cell_type": "markdown",
      "source": [
        "# Linear Rgression Using Neural Networks"
      ],
      "metadata": {
        "id": "TDRDZczEk4ef"
      }
    },
    {
      "cell_type": "code",
      "execution_count": 321,
      "metadata": {
        "id": "Jua45W1ZiQO2"
      },
      "outputs": [],
      "source": [
        "import torch\n",
        "import torch.nn as nn\n",
        "import torch.nn.functional as F\n",
        "from torch.utils.data import Dataset, DataLoader, random_split"
      ]
    },
    {
      "cell_type": "code",
      "source": [
        "from sklearn import datasets, model_selection\n",
        "from sklearn.preprocessing import StandardScaler\n",
        "\n",
        "import numpy as np\n",
        "import pandas as pd\n",
        "import matplotlib.pyplot as plt\n",
        "\n",
        "from tqdm import tqdm"
      ],
      "metadata": {
        "id": "Oz5ZbLZdkDT_"
      },
      "execution_count": 322,
      "outputs": []
    },
    {
      "cell_type": "code",
      "source": [
        "X,y = datasets.make_regression(n_samples=100000, n_features=50,\n",
        "                                       n_informative=40, n_targets=1,\n",
        "                                       random_state=313)\n"
      ],
      "metadata": {
        "id": "M2R9Rvz6imOe"
      },
      "execution_count": 323,
      "outputs": []
    },
    {
      "cell_type": "code",
      "source": [
        "X.shape, y.shape"
      ],
      "metadata": {
        "colab": {
          "base_uri": "https://localhost:8080/"
        },
        "id": "KOx_ew3CjE3i",
        "outputId": "34d8b8ef-13d9-4cc4-b485-fcdcd8512686"
      },
      "execution_count": 324,
      "outputs": [
        {
          "output_type": "execute_result",
          "data": {
            "text/plain": [
              "((100000, 50), (100000,))"
            ]
          },
          "metadata": {},
          "execution_count": 324
        }
      ]
    },
    {
      "cell_type": "code",
      "source": [
        "batch_size = 32\n",
        "epochs = 2"
      ],
      "metadata": {
        "id": "FJjZk0EppJf5"
      },
      "execution_count": 325,
      "outputs": []
    },
    {
      "cell_type": "code",
      "source": [
        "class CustomDataset(Dataset):\n",
        "  def __init__(self, X, y, scale=True):\n",
        "    if not torch.is_tensor(X):\n",
        "      if scale:\n",
        "        self.X = StandardScaler().fit_transform(X)\n",
        "      self.X = torch.from_numpy(X)\n",
        "      self.X = self.X.to(torch.float32)\n",
        "\n",
        "    if not torch.is_tensor(y):\n",
        "      self.y = torch.from_numpy(y)\n",
        "      self.y = self.y.to(torch.float32)\n",
        "\n",
        "  def __len__(self):\n",
        "        return len(self.X)\n",
        "\n",
        "  def __getitem__(self, idx):\n",
        "    return self.X[idx], self.y[idx]"
      ],
      "metadata": {
        "id": "yFeL6Rk0pcbZ"
      },
      "execution_count": 326,
      "outputs": []
    },
    {
      "cell_type": "code",
      "source": [
        "dataset = CustomDataset(X,y)"
      ],
      "metadata": {
        "id": "CI_fFT9Ys_CT"
      },
      "execution_count": 327,
      "outputs": []
    },
    {
      "cell_type": "code",
      "source": [
        "train_dataset, test_dataset = random_split(dataset, (0.8, 0.2))"
      ],
      "metadata": {
        "id": "gB9RhXU4uK9z"
      },
      "execution_count": 328,
      "outputs": []
    },
    {
      "cell_type": "code",
      "source": [
        "train_loader = DataLoader(train_dataset, batch_size, shuffle=True)\n",
        "test_loader = DataLoader(test_dataset, batch_size, shuffle=False)"
      ],
      "metadata": {
        "id": "SZc1HI9vpK7n"
      },
      "execution_count": 329,
      "outputs": []
    },
    {
      "cell_type": "code",
      "source": [
        "print(f'There are {len(train_dataset)} items in the training set')\n",
        "print(f'There are {len(test_dataset)} items in the test set')\n",
        "print(f'There are {len(train_loader)} batches in the train loader')\n",
        "print(f'There are {len(test_loader)} batches in the testloader')"
      ],
      "metadata": {
        "colab": {
          "base_uri": "https://localhost:8080/"
        },
        "id": "h_0hBp1-vfCY",
        "outputId": "f3fbf7e5-71ce-41f5-8c5f-d3b9f3ac4224"
      },
      "execution_count": 330,
      "outputs": [
        {
          "output_type": "stream",
          "name": "stdout",
          "text": [
            "There are 80000 items in the training set\n",
            "There are 20000 items in the test set\n",
            "There are 2500 batches in the train loader\n",
            "There are 625 batches in the testloader\n"
          ]
        }
      ]
    },
    {
      "cell_type": "code",
      "source": [
        "# verify\n",
        "32*2500, 32*625"
      ],
      "metadata": {
        "colab": {
          "base_uri": "https://localhost:8080/"
        },
        "id": "zqcZtQn0vkMv",
        "outputId": "a08ecef2-e44c-468f-d2b0-9b24ce8746ed"
      },
      "execution_count": 331,
      "outputs": [
        {
          "output_type": "execute_result",
          "data": {
            "text/plain": [
              "(80000, 20000)"
            ]
          },
          "metadata": {},
          "execution_count": 331
        }
      ]
    },
    {
      "cell_type": "code",
      "source": [
        "class LinearRegression(nn.Module):\n",
        "  def __init__(self):\n",
        "      super(LinearRegression, self).__init__()\n",
        "\n",
        "      self.hidden1 = nn.Linear(50,16,True)\n",
        "      self.relu = nn.ReLU()\n",
        "      self.dropout1 = nn.Dropout(p=0.1)\n",
        "      self.hidden2 = nn.Linear(16,8,True)\n",
        "      self.dropout2 = nn.Dropout(p=0.05)\n",
        "      self.out = nn.Linear(8,1,True)\n",
        "\n",
        "  def forward(self,x):\n",
        "    out = self.hidden1(x)\n",
        "    out = self.relu(out)\n",
        "    out = self.dropout1(out)\n",
        "    out = self.hidden2(out)\n",
        "    out = self.relu(out)\n",
        "    out = self.dropout2(out)\n",
        "    out = self.out(out)\n",
        "    return out"
      ],
      "metadata": {
        "id": "veS4Tbgci97n"
      },
      "execution_count": 332,
      "outputs": []
    },
    {
      "cell_type": "code",
      "source": [
        "device = torch.device(\"cuda\") if torch.cuda.is_available else torch.device(\"cpu\")"
      ],
      "metadata": {
        "id": "AEuYQOlrqSxD"
      },
      "execution_count": 333,
      "outputs": []
    },
    {
      "cell_type": "code",
      "source": [
        "device"
      ],
      "metadata": {
        "colab": {
          "base_uri": "https://localhost:8080/"
        },
        "id": "C7L02EaQrdz6",
        "outputId": "9039ef2b-6719-4f36-ae65-304fac2b0e61"
      },
      "execution_count": 334,
      "outputs": [
        {
          "output_type": "execute_result",
          "data": {
            "text/plain": [
              "device(type='cuda')"
            ]
          },
          "metadata": {},
          "execution_count": 334
        }
      ]
    },
    {
      "cell_type": "code",
      "source": [
        "model = LinearRegression()\n",
        "\n",
        "if device == torch.device(\"cuda\"):\n",
        "  model = model.to(device)"
      ],
      "metadata": {
        "id": "8TOmp-jhv_pZ"
      },
      "execution_count": 335,
      "outputs": []
    },
    {
      "cell_type": "code",
      "source": [
        "model"
      ],
      "metadata": {
        "colab": {
          "base_uri": "https://localhost:8080/"
        },
        "id": "QRQNGsaLwU9E",
        "outputId": "f75bf628-841e-444a-d046-71dbfec99bf4"
      },
      "execution_count": 336,
      "outputs": [
        {
          "output_type": "execute_result",
          "data": {
            "text/plain": [
              "LinearRegression(\n",
              "  (hidden1): Linear(in_features=50, out_features=16, bias=True)\n",
              "  (relu): ReLU()\n",
              "  (dropout1): Dropout(p=0.1, inplace=False)\n",
              "  (hidden2): Linear(in_features=16, out_features=8, bias=True)\n",
              "  (dropout2): Dropout(p=0.05, inplace=False)\n",
              "  (out): Linear(in_features=8, out_features=1, bias=True)\n",
              ")"
            ]
          },
          "metadata": {},
          "execution_count": 336
        }
      ]
    },
    {
      "cell_type": "code",
      "source": [
        "# define loss and optimizer\n",
        "\n",
        "loss_fn = nn.MSELoss()\n",
        "optimizer = torch.optim.SGD(model.parameters(), lr=0.001)"
      ],
      "metadata": {
        "id": "74RtBhf7wtWH"
      },
      "execution_count": 337,
      "outputs": []
    },
    {
      "cell_type": "code",
      "source": [
        "# understand what's happening\n",
        "itr = 0\n",
        "\n",
        "for i,(input,y) in enumerate(train_loader):\n",
        "\n",
        "      if itr == 1:\n",
        "        break\n",
        "\n",
        "      if device == torch.device(\"cuda\"):\n",
        "          input = input.to(device)\n",
        "          y = y.to(device)\n",
        "\n",
        "\n",
        "      print(f'Input Shape: {input.shape}')\n",
        "      print(f'Output Shape: {y.shape}')\n",
        "\n",
        "      yhat = model(input)\n",
        "\n",
        "      print(f'Prediction Shape: {yhat.shape}')\n",
        "      print(f'Prediction: {yhat}')\n",
        "\n",
        "      loss = loss_fn(yhat, y)\n",
        "      print(f'Loss: {loss.item()}')\n",
        "\n",
        "      itr += 1"
      ],
      "metadata": {
        "colab": {
          "base_uri": "https://localhost:8080/"
        },
        "id": "HA_8wlrYxHhe",
        "outputId": "1bfc784c-b4e0-418b-b065-42c43d547f3b"
      },
      "execution_count": 338,
      "outputs": [
        {
          "output_type": "stream",
          "name": "stdout",
          "text": [
            "Input Shape: torch.Size([32, 50])\n",
            "Output Shape: torch.Size([32])\n",
            "Prediction Shape: torch.Size([32, 1])\n",
            "Prediction: tensor([[-0.1209],\n",
            "        [-0.0524],\n",
            "        [-0.0288],\n",
            "        [-0.0003],\n",
            "        [ 0.0905],\n",
            "        [-0.0302],\n",
            "        [-0.2005],\n",
            "        [ 0.0233],\n",
            "        [-0.0492],\n",
            "        [-0.0561],\n",
            "        [-0.1018],\n",
            "        [-0.0593],\n",
            "        [-0.0028],\n",
            "        [-0.0042],\n",
            "        [-0.1041],\n",
            "        [-0.0591],\n",
            "        [-0.0852],\n",
            "        [-0.1262],\n",
            "        [-0.0409],\n",
            "        [-0.0167],\n",
            "        [-0.0039],\n",
            "        [ 0.0115],\n",
            "        [ 0.1126],\n",
            "        [-0.0678],\n",
            "        [-0.0154],\n",
            "        [-0.0005],\n",
            "        [-0.0445],\n",
            "        [ 0.0210],\n",
            "        [-0.0183],\n",
            "        [-0.1466],\n",
            "        [-0.1178],\n",
            "        [-0.0439]], device='cuda:0', grad_fn=<AddmmBackward0>)\n",
            "Loss: 109498.046875\n"
          ]
        },
        {
          "output_type": "stream",
          "name": "stderr",
          "text": [
            "/usr/local/lib/python3.10/dist-packages/torch/nn/modules/loss.py:536: UserWarning: Using a target size (torch.Size([32])) that is different to the input size (torch.Size([32, 1])). This will likely lead to incorrect results due to broadcasting. Please ensure they have the same size.\n",
            "  return F.mse_loss(input, target, reduction=self.reduction)\n"
          ]
        }
      ]
    },
    {
      "cell_type": "code",
      "source": [
        "epochs = 5\n",
        "\n",
        "train_loss, test_loss = list(), list()\n",
        "best_mse, best_weights = None, None\n",
        "\n",
        "for epoch in tqdm(range(epochs)):\n",
        "  correct = 0\n",
        "  itrs = 0\n",
        "  itr_loss = 0.0\n",
        "\n",
        "  model.train()\n",
        "\n",
        "  for i,(input,y) in enumerate(train_loader):\n",
        "\n",
        "      if device == torch.device(\"cuda\"):\n",
        "          input = input.to(device)\n",
        "          y = y.to(device)\n",
        "\n",
        "      optimizer.zero_grad() # clear the accumulated gradients\n",
        "\n",
        "      output = model(input) # perform forward propogation\n",
        "\n",
        "      loss = loss_fn(output, y) # compute loss\n",
        "      itr_loss += loss.item()\n",
        "      loss.backward() # perform backpropogation\n",
        "\n",
        "      optimizer.step() # update weights (kernel elements in CNN)\n",
        "\n",
        "      itrs+=1\n",
        "\n",
        "  train_loss.append(itr_loss/itrs)\n",
        "\n",
        "\n",
        "  # test the model\n",
        "  model.eval()\n",
        "\n",
        "  correct = 0\n",
        "  itrs = 0\n",
        "  itr_loss = 0.0\n",
        "\n",
        "  for i,(input,y) in enumerate(test_loader):\n",
        "\n",
        "      if device == torch.device(\"cuda\"):\n",
        "          input = input.to(device)\n",
        "          y = y.to(device)\n",
        "\n",
        "      output = model(input)\n",
        "\n",
        "      loss = loss_fn(output, y)\n",
        "      itr_loss += loss.item()\n",
        "\n",
        "      itrs += 1\n",
        "\n",
        "  test_loss.append(itr_loss/itrs)\n",
        "\n",
        "  if len(test_loss) == 1 or test_loss and itr_loss / itrs < test_loss[-1]:\n",
        "    best_mse = itr_loss / itrs\n",
        "    best_weights = model.state_dict()\n",
        "\n",
        "  print(f'\\nEpoch {epoch+1}/{epochs}, Training Loss: {train_loss[-1]:.3f}, Testing Loss: {test_loss[-1]:.3f}')"
      ],
      "metadata": {
        "colab": {
          "base_uri": "https://localhost:8080/"
        },
        "id": "5CEpkmzhHFEI",
        "outputId": "8b497854-dcd6-4283-d247-231b5f535306"
      },
      "execution_count": 339,
      "outputs": [
        {
          "output_type": "stream",
          "name": "stderr",
          "text": [
            " 20%|██        | 1/5 [00:04<00:18,  4.65s/it]"
          ]
        },
        {
          "output_type": "stream",
          "name": "stdout",
          "text": [
            "\n",
            "Epoch 1/5, Training Loss: 114608.438, Testing Loss: 113042.781\n"
          ]
        },
        {
          "output_type": "stream",
          "name": "stderr",
          "text": [
            "\r 40%|████      | 2/5 [00:08<00:12,  4.30s/it]"
          ]
        },
        {
          "output_type": "stream",
          "name": "stdout",
          "text": [
            "\n",
            "Epoch 2/5, Training Loss: 114585.889, Testing Loss: 113032.453\n"
          ]
        },
        {
          "output_type": "stream",
          "name": "stderr",
          "text": [
            "\r 60%|██████    | 3/5 [00:12<00:08,  4.19s/it]"
          ]
        },
        {
          "output_type": "stream",
          "name": "stdout",
          "text": [
            "\n",
            "Epoch 3/5, Training Loss: 114587.630, Testing Loss: 113064.818\n"
          ]
        },
        {
          "output_type": "stream",
          "name": "stderr",
          "text": [
            "\r 80%|████████  | 4/5 [00:17<00:04,  4.35s/it]"
          ]
        },
        {
          "output_type": "stream",
          "name": "stdout",
          "text": [
            "\n",
            "Epoch 4/5, Training Loss: 114586.761, Testing Loss: 113025.977\n"
          ]
        },
        {
          "output_type": "stream",
          "name": "stderr",
          "text": [
            "100%|██████████| 5/5 [00:21<00:00,  4.29s/it]"
          ]
        },
        {
          "output_type": "stream",
          "name": "stdout",
          "text": [
            "\n",
            "Epoch 5/5, Training Loss: 114584.512, Testing Loss: 113010.155\n"
          ]
        },
        {
          "output_type": "stream",
          "name": "stderr",
          "text": [
            "\n"
          ]
        }
      ]
    },
    {
      "cell_type": "code",
      "source": [
        "print(f'MSE Loss: {best_mse}')\n",
        "print(f'RMSE Loss: {np.sqrt(best_mse)}')"
      ],
      "metadata": {
        "colab": {
          "base_uri": "https://localhost:8080/"
        },
        "id": "fOgqwTfxMRX9",
        "outputId": "b164f67f-2c61-40d3-926f-404a4958c3a5"
      },
      "execution_count": 340,
      "outputs": [
        {
          "output_type": "stream",
          "name": "stdout",
          "text": [
            "MSE Loss: 113042.7807875\n",
            "RMSE Loss: 336.2183528415723\n"
          ]
        }
      ]
    },
    {
      "cell_type": "code",
      "source": [
        "f = plt.figure(figsize=(10, 10))\n",
        "plt.plot(train_loss, label='Training Loss')\n",
        "plt.plot(test_loss, label='Testing Loss')\n",
        "plt.legend()\n",
        "plt.show()"
      ],
      "metadata": {
        "colab": {
          "base_uri": "https://localhost:8080/",
          "height": 830
        },
        "id": "dsuEAMuBHLAb",
        "outputId": "b8438821-d4c7-4ba6-c4d9-ce4a3464a0f6"
      },
      "execution_count": 341,
      "outputs": [
        {
          "output_type": "display_data",
          "data": {
            "text/plain": [
              "<Figure size 1000x1000 with 1 Axes>"
            ],
            "image/png": "[encoded data removed]"
          },
          "metadata": {}
        }
      ]
    },
    {
      "cell_type": "code",
      "source": [
        "torch.save(best_weights,'LinearRegression.pt')"
      ],
      "metadata": {
        "id": "LTS1tCZ6LXDu"
      },
      "execution_count": 342,
      "outputs": []
    },
    {
      "cell_type": "markdown",
      "source": [
        "## Miscellaneous Playground"
      ],
      "metadata": {
        "id": "QsY0xTDGG0AQ"
      }
    },
    {
      "cell_type": "code",
      "source": [
        "layer = nn.Linear(3,1)"
      ],
      "metadata": {
        "id": "MLQ3KjYQxl3x"
      },
      "execution_count": 343,
      "outputs": []
    },
    {
      "cell_type": "code",
      "source": [
        "layer.weight, layer.bias"
      ],
      "metadata": {
        "colab": {
          "base_uri": "https://localhost:8080/"
        },
        "id": "zNIAtzur92_r",
        "outputId": "b25263a9-966c-4489-9476-44c752affc75"
      },
      "execution_count": 344,
      "outputs": [
        {
          "output_type": "execute_result",
          "data": {
            "text/plain": [
              "(Parameter containing:\n",
              " tensor([[ 0.5594, -0.3257,  0.2205]], requires_grad=True),\n",
              " Parameter containing:\n",
              " tensor([-0.1391], requires_grad=True))"
            ]
          },
          "metadata": {},
          "execution_count": 344
        }
      ]
    },
    {
      "cell_type": "code",
      "source": [
        "layer.weight.dtype, layer.bias.dtype"
      ],
      "metadata": {
        "colab": {
          "base_uri": "https://localhost:8080/"
        },
        "id": "DyabDnDFFGux",
        "outputId": "a82c4d79-408d-4bae-cf28-458ed5fe42bd"
      },
      "execution_count": 345,
      "outputs": [
        {
          "output_type": "execute_result",
          "data": {
            "text/plain": [
              "(torch.float32, torch.float32)"
            ]
          },
          "metadata": {},
          "execution_count": 345
        }
      ]
    },
    {
      "cell_type": "code",
      "source": [
        "x = torch.tensor([1,2,3],dtype=torch.float32, requires_grad=False)"
      ],
      "metadata": {
        "id": "zN5fEiEz95ic"
      },
      "execution_count": 346,
      "outputs": []
    },
    {
      "cell_type": "code",
      "source": [
        "x.shape"
      ],
      "metadata": {
        "colab": {
          "base_uri": "https://localhost:8080/"
        },
        "id": "dlvD0Nz499Qs",
        "outputId": "4b81dd5b-370c-45d8-a226-d8e6e08c7e5d"
      },
      "execution_count": 347,
      "outputs": [
        {
          "output_type": "execute_result",
          "data": {
            "text/plain": [
              "torch.Size([3])"
            ]
          },
          "metadata": {},
          "execution_count": 347
        }
      ]
    },
    {
      "cell_type": "code",
      "source": [
        "layer(x)"
      ],
      "metadata": {
        "colab": {
          "base_uri": "https://localhost:8080/"
        },
        "id": "TDd-bVgZ994y",
        "outputId": "d707c330-9bf9-41b9-d1a5-3701a350c4d9"
      },
      "execution_count": 348,
      "outputs": [
        {
          "output_type": "execute_result",
          "data": {
            "text/plain": [
              "tensor([0.4304], grad_fn=<AddBackward0>)"
            ]
          },
          "metadata": {},
          "execution_count": 348
        }
      ]
    },
    {
      "cell_type": "code",
      "source": [
        "print(layer.weight.detach().numpy()*x.numpy())"
      ],
      "metadata": {
        "colab": {
          "base_uri": "https://localhost:8080/"
        },
        "id": "qT5ycPDB-FT9",
        "outputId": "cef51f3f-8a38-46ab-fa8b-d9a0898e1483"
      },
      "execution_count": 349,
      "outputs": [
        {
          "output_type": "stream",
          "name": "stdout",
          "text": [
            "[[ 0.5594247  -0.65142167  0.66147137]]\n"
          ]
        }
      ]
    },
    {
      "cell_type": "code",
      "source": [
        "print((layer.weight.detach().numpy()*x.numpy()).sum())"
      ],
      "metadata": {
        "colab": {
          "base_uri": "https://localhost:8080/"
        },
        "id": "-hqqggh1-YP7",
        "outputId": "83c2d0db-9455-41b6-94fc-019d7204ac0d"
      },
      "execution_count": 350,
      "outputs": [
        {
          "output_type": "stream",
          "name": "stdout",
          "text": [
            "0.5694744\n"
          ]
        }
      ]
    }
  ]
}