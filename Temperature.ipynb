{
 "cells": [
  {
   "cell_type": "code",
   "execution_count": 7,
   "id": "a5a96d1b",
   "metadata": {},
   "outputs": [],
   "source": [
    "import torch\n",
    "import torch.nn.functional as F"
   ]
  },
  {
   "cell_type": "code",
   "execution_count": 29,
   "id": "2046e3f9",
   "metadata": {},
   "outputs": [],
   "source": [
    "def softmax(T):\n",
    "    print(f\"{T}\")\n",
    "    output = torch.rand(3) / T\n",
    "    print(f\"Output:{output}\")\n",
    "    out = F.softmax(output,dim=-1)\n",
    "    print(f\"Softmax: {out}\")"
   ]
  },
  {
   "cell_type": "code",
   "execution_count": 30,
   "id": "7202aeb9",
   "metadata": {},
   "outputs": [
    {
     "name": "stdout",
     "output_type": "stream",
     "text": [
      "0.5\n",
      "Output:tensor([1.6758, 0.2128, 1.0059])\n",
      "Softmax: tensor([0.5736, 0.1328, 0.2936])\n"
     ]
    }
   ],
   "source": [
    "softmax(0.5)"
   ]
  },
  {
   "cell_type": "code",
   "execution_count": 31,
   "id": "5d1efb1c",
   "metadata": {},
   "outputs": [
    {
     "name": "stdout",
     "output_type": "stream",
     "text": [
      "200\n",
      "Output:tensor([0.0022, 0.0040, 0.0034])\n",
      "Softmax: tensor([0.3330, 0.3336, 0.3334])\n",
      "\n",
      "100\n",
      "Output:tensor([0.0099, 0.0058, 0.0092])\n",
      "Softmax: tensor([0.3339, 0.3325, 0.3336])\n",
      "\n",
      "50\n",
      "Output:tensor([0.0116, 0.0054, 0.0143])\n",
      "Softmax: tensor([0.3337, 0.3317, 0.3346])\n",
      "\n",
      "1\n",
      "Output:tensor([0.8521, 0.9631, 0.3287])\n",
      "Softmax: tensor([0.3690, 0.4123, 0.2186])\n",
      "\n",
      "0.5\n",
      "Output:tensor([0.5531, 1.0731, 1.2411])\n",
      "Softmax: tensor([0.2141, 0.3600, 0.4259])\n",
      "\n",
      "0.1\n",
      "Output:tensor([4.0679, 1.9886, 6.7280])\n",
      "Softmax: tensor([0.0648, 0.0081, 0.9271])\n",
      "\n"
     ]
    }
   ],
   "source": [
    "for T in [200,100,50,1,0.5,0.1]:\n",
    "    softmax(T)\n",
    "    print()"
   ]
  }
 ],
 "metadata": {
  "kernelspec": {
   "display_name": "nb",
   "language": "python",
   "name": "nb"
  },
  "language_info": {
   "codemirror_mode": {
    "name": "ipython",
    "version": 3
   },
   "file_extension": ".py",
   "mimetype": "text/x-python",
   "name": "python",
   "nbconvert_exporter": "python",
   "pygments_lexer": "ipython3",
   "version": "3.10.12"
  }
 },
 "nbformat": 4,
 "nbformat_minor": 5
}
